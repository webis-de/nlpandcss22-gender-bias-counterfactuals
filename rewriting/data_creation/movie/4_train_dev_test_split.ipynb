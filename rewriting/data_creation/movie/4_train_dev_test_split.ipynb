{
 "cells": [
  {
   "cell_type": "code",
   "execution_count": 1,
   "id": "98c0a47a-123a-460d-a173-d4fb68593fe9",
   "metadata": {},
   "outputs": [],
   "source": [
    "import os\n",
    "# nvidia-smi\n",
    "os.environ['CUDA_VISIBLE_DEVICES'] = '0'"
   ]
  },
  {
   "cell_type": "code",
   "execution_count": 2,
   "id": "66dfc55b-c83a-4a03-b3ad-6e9d6da889b7",
   "metadata": {},
   "outputs": [],
   "source": [
    "import pandas as pd\n",
    "import csv\n",
    "import numpy as np\n",
    "from tqdm import tqdm\n",
    "tqdm.pandas()"
   ]
  },
  {
   "cell_type": "code",
   "execution_count": 3,
   "id": "26f3647a-9957-46b1-927e-616b963d636e",
   "metadata": {},
   "outputs": [],
   "source": [
    "import warnings\n",
    "warnings.filterwarnings(\"ignore\")"
   ]
  },
  {
   "cell_type": "code",
   "execution_count": 4,
   "id": "31e07997-9b1a-4efe-b143-43e6442d5af2",
   "metadata": {},
   "outputs": [],
   "source": [
    "PREFIX = \"../data/\"\n",
    "PA_PATH = PREFIX + \"sap2017-connotation-frames-power-agency/\"\n",
    "MS_PATH = PREFIX + \"bamman2013-movie-summaries/MovieSummaries/\"\n",
    "NLP_PATH = MS_PATH + 'corenlp_plot_summaries/'"
   ]
  },
  {
   "cell_type": "markdown",
   "id": "7b26b473-109a-454a-8938-e5b9fe50cd69",
   "metadata": {},
   "source": [
    "# read data"
   ]
  },
  {
   "cell_type": "code",
   "execution_count": 5,
   "id": "45ed6eb1-63d0-4897-8872-83a31d6c04de",
   "metadata": {},
   "outputs": [],
   "source": [
    "data = pd.read_csv(MS_PATH + 'pa-transformer/movie_sentences_genderbalanced.csv', index_col = 0)"
   ]
  },
  {
   "cell_type": "code",
   "execution_count": 6,
   "id": "0067ed40-ef72-458d-937b-0fed0050819c",
   "metadata": {},
   "outputs": [
    {
     "data": {
      "text/html": [
       "<div>\n",
       "<style scoped>\n",
       "    .dataframe tbody tr th:only-of-type {\n",
       "        vertical-align: middle;\n",
       "    }\n",
       "\n",
       "    .dataframe tbody tr th {\n",
       "        vertical-align: top;\n",
       "    }\n",
       "\n",
       "    .dataframe thead th {\n",
       "        text-align: right;\n",
       "    }\n",
       "</style>\n",
       "<table border=\"1\" class=\"dataframe\">\n",
       "  <thead>\n",
       "    <tr style=\"text-align: right;\">\n",
       "      <th></th>\n",
       "      <th>sen</th>\n",
       "      <th>sendel</th>\n",
       "      <th>agency</th>\n",
       "      <th>power</th>\n",
       "      <th>verb</th>\n",
       "      <th>mid</th>\n",
       "      <th>senid</th>\n",
       "      <th>charid</th>\n",
       "      <th>gender</th>\n",
       "    </tr>\n",
       "  </thead>\n",
       "  <tbody>\n",
       "    <tr>\n",
       "      <th>85173</th>\n",
       "      <td>When she refuses , Jane , her father and Guilf...</td>\n",
       "      <td>When she refuses , Jane , her father and Guilf...</td>\n",
       "      <td>pos</td>\n",
       "      <td>pos</td>\n",
       "      <td>execute</td>\n",
       "      <td>181471</td>\n",
       "      <td>11</td>\n",
       "      <td>/m/0gyf3b3</td>\n",
       "      <td>F</td>\n",
       "    </tr>\n",
       "    <tr>\n",
       "      <th>90876</th>\n",
       "      <td>He recognizes her from the airport and says ``...</td>\n",
       "      <td>He recognizes her from the airport and says ``...</td>\n",
       "      <td>pos</td>\n",
       "      <td>neg</td>\n",
       "      <td>respond</td>\n",
       "      <td>226198</td>\n",
       "      <td>15</td>\n",
       "      <td>/m/0gxw824</td>\n",
       "      <td>F</td>\n",
       "    </tr>\n",
       "    <tr>\n",
       "      <th>32333</th>\n",
       "      <td>He pockets the potion and attempts to flee , b...</td>\n",
       "      <td>He &lt;VERB&gt; the potion and attempts to flee , bu...</td>\n",
       "      <td>equal</td>\n",
       "      <td>pos</td>\n",
       "      <td>pocket</td>\n",
       "      <td>105972</td>\n",
       "      <td>34</td>\n",
       "      <td>/m/0b440_m</td>\n",
       "      <td>F</td>\n",
       "    </tr>\n",
       "    <tr>\n",
       "      <th>127220</th>\n",
       "      <td>After the death of a fellow detective , both J...</td>\n",
       "      <td>After the death of a fellow detective , both J...</td>\n",
       "      <td>pos</td>\n",
       "      <td>pos</td>\n",
       "      <td>make</td>\n",
       "      <td>15790648</td>\n",
       "      <td>4</td>\n",
       "      <td>/m/0h2qm_m</td>\n",
       "      <td>F</td>\n",
       "    </tr>\n",
       "    <tr>\n",
       "      <th>124464</th>\n",
       "      <td>Robert asks that Patty wear a wire to record i...</td>\n",
       "      <td>Robert asks that Patty &lt;VERB&gt; a wire to record...</td>\n",
       "      <td>pos</td>\n",
       "      <td>pos</td>\n",
       "      <td>wear</td>\n",
       "      <td>15080990</td>\n",
       "      <td>20</td>\n",
       "      <td>/m/05sqzx2</td>\n",
       "      <td>F</td>\n",
       "    </tr>\n",
       "  </tbody>\n",
       "</table>\n",
       "</div>"
      ],
      "text/plain": [
       "                                                      sen  \\\n",
       "85173   When she refuses , Jane , her father and Guilf...   \n",
       "90876   He recognizes her from the airport and says ``...   \n",
       "32333   He pockets the potion and attempts to flee , b...   \n",
       "127220  After the death of a fellow detective , both J...   \n",
       "124464  Robert asks that Patty wear a wire to record i...   \n",
       "\n",
       "                                                   sendel agency power  \\\n",
       "85173   When she refuses , Jane , her father and Guilf...    pos   pos   \n",
       "90876   He recognizes her from the airport and says ``...    pos   neg   \n",
       "32333   He <VERB> the potion and attempts to flee , bu...  equal   pos   \n",
       "127220  After the death of a fellow detective , both J...    pos   pos   \n",
       "124464  Robert asks that Patty <VERB> a wire to record...    pos   pos   \n",
       "\n",
       "           verb       mid  senid      charid gender  \n",
       "85173   execute    181471     11  /m/0gyf3b3      F  \n",
       "90876   respond    226198     15  /m/0gxw824      F  \n",
       "32333    pocket    105972     34  /m/0b440_m      F  \n",
       "127220     make  15790648      4  /m/0h2qm_m      F  \n",
       "124464     wear  15080990     20  /m/05sqzx2      F  "
      ]
     },
     "execution_count": 6,
     "metadata": {},
     "output_type": "execute_result"
    }
   ],
   "source": [
    "data.head()"
   ]
  },
  {
   "cell_type": "code",
   "execution_count": 7,
   "id": "8f4d7a43-6006-4726-8668-3fa001e00cef",
   "metadata": {},
   "outputs": [
    {
     "data": {
      "text/plain": [
       "50000"
      ]
     },
     "execution_count": 7,
     "metadata": {},
     "output_type": "execute_result"
    }
   ],
   "source": [
    "len(data)"
   ]
  },
  {
   "cell_type": "code",
   "execution_count": 8,
   "id": "39cd7708-4fea-41b3-babf-00fceaa4904a",
   "metadata": {},
   "outputs": [
    {
     "data": {
      "text/plain": [
       "(35000.0, 10000.0, 5000.0)"
      ]
     },
     "execution_count": 8,
     "metadata": {},
     "output_type": "execute_result"
    }
   ],
   "source": [
    "(50000*0.7), (50000*0.2), (50000*0.1)"
   ]
  },
  {
   "cell_type": "markdown",
   "id": "da76255e-d16c-4203-b693-c06ce92e34ee",
   "metadata": {},
   "source": [
    "# split"
   ]
  },
  {
   "cell_type": "code",
   "execution_count": 9,
   "id": "373298e0-19b1-4257-b853-ddc282fff810",
   "metadata": {},
   "outputs": [],
   "source": [
    "test = data.sample(5000)"
   ]
  },
  {
   "cell_type": "code",
   "execution_count": 11,
   "id": "7a34a2cb-5a54-432a-98fe-06cde37f8538",
   "metadata": {
    "tags": []
   },
   "outputs": [
    {
     "data": {
      "text/html": [
       "<div>\n",
       "<style scoped>\n",
       "    .dataframe tbody tr th:only-of-type {\n",
       "        vertical-align: middle;\n",
       "    }\n",
       "\n",
       "    .dataframe tbody tr th {\n",
       "        vertical-align: top;\n",
       "    }\n",
       "\n",
       "    .dataframe thead th {\n",
       "        text-align: right;\n",
       "    }\n",
       "</style>\n",
       "<table border=\"1\" class=\"dataframe\">\n",
       "  <thead>\n",
       "    <tr style=\"text-align: right;\">\n",
       "      <th></th>\n",
       "      <th>sen</th>\n",
       "      <th>sendel</th>\n",
       "      <th>agency</th>\n",
       "      <th>power</th>\n",
       "      <th>verb</th>\n",
       "      <th>mid</th>\n",
       "      <th>senid</th>\n",
       "      <th>charid</th>\n",
       "      <th>gender</th>\n",
       "    </tr>\n",
       "  </thead>\n",
       "  <tbody>\n",
       "    <tr>\n",
       "      <th>69968</th>\n",
       "      <td>But listlessness and dejection set in when Mah...</td>\n",
       "      <td>But listlessness and dejection set in when Mah...</td>\n",
       "      <td>pos</td>\n",
       "      <td>equal</td>\n",
       "      <td>tell</td>\n",
       "      <td>33240879</td>\n",
       "      <td>5</td>\n",
       "      <td>/m/0h734t0</td>\n",
       "      <td>F</td>\n",
       "    </tr>\n",
       "    <tr>\n",
       "      <th>25527</th>\n",
       "      <td>Stu was booked on the same chartered flight bu...</td>\n",
       "      <td>Stu was &lt;VERB&gt; on the same chartered flight bu...</td>\n",
       "      <td>pos</td>\n",
       "      <td>equal</td>\n",
       "      <td>book</td>\n",
       "      <td>31073723</td>\n",
       "      <td>21</td>\n",
       "      <td>/m/0hj845v</td>\n",
       "      <td>M</td>\n",
       "    </tr>\n",
       "    <tr>\n",
       "      <th>56216</th>\n",
       "      <td>After doing some research , Hutch calls everyo...</td>\n",
       "      <td>After doing some research , Hutch &lt;VERB&gt; every...</td>\n",
       "      <td>pos</td>\n",
       "      <td>neg</td>\n",
       "      <td>call</td>\n",
       "      <td>3024248</td>\n",
       "      <td>26</td>\n",
       "      <td>/m/09sc4ld</td>\n",
       "      <td>M</td>\n",
       "    </tr>\n",
       "    <tr>\n",
       "      <th>49722</th>\n",
       "      <td>Upon realizing that Cady has been accepted int...</td>\n",
       "      <td>Upon realizing that Cady has been &lt;VERB&gt; into ...</td>\n",
       "      <td>neg</td>\n",
       "      <td>pos</td>\n",
       "      <td>accept</td>\n",
       "      <td>10565718</td>\n",
       "      <td>7</td>\n",
       "      <td>/m/0g98f_k</td>\n",
       "      <td>F</td>\n",
       "    </tr>\n",
       "    <tr>\n",
       "      <th>103472</th>\n",
       "      <td>As their relationship develops , Carl and Alli...</td>\n",
       "      <td>As their relationship develops , Carl and Alli...</td>\n",
       "      <td>pos</td>\n",
       "      <td>equal</td>\n",
       "      <td>meet</td>\n",
       "      <td>18953471</td>\n",
       "      <td>24</td>\n",
       "      <td>/m/0c9frdn</td>\n",
       "      <td>M</td>\n",
       "    </tr>\n",
       "  </tbody>\n",
       "</table>\n",
       "</div>"
      ],
      "text/plain": [
       "                                                      sen  \\\n",
       "69968   But listlessness and dejection set in when Mah...   \n",
       "25527   Stu was booked on the same chartered flight bu...   \n",
       "56216   After doing some research , Hutch calls everyo...   \n",
       "49722   Upon realizing that Cady has been accepted int...   \n",
       "103472  As their relationship develops , Carl and Alli...   \n",
       "\n",
       "                                                   sendel agency  power  \\\n",
       "69968   But listlessness and dejection set in when Mah...    pos  equal   \n",
       "25527   Stu was <VERB> on the same chartered flight bu...    pos  equal   \n",
       "56216   After doing some research , Hutch <VERB> every...    pos    neg   \n",
       "49722   Upon realizing that Cady has been <VERB> into ...    neg    pos   \n",
       "103472  As their relationship develops , Carl and Alli...    pos  equal   \n",
       "\n",
       "          verb       mid  senid      charid gender  \n",
       "69968     tell  33240879      5  /m/0h734t0      F  \n",
       "25527     book  31073723     21  /m/0hj845v      M  \n",
       "56216     call   3024248     26  /m/09sc4ld      M  \n",
       "49722   accept  10565718      7  /m/0g98f_k      F  \n",
       "103472    meet  18953471     24  /m/0c9frdn      M  "
      ]
     },
     "execution_count": 11,
     "metadata": {},
     "output_type": "execute_result"
    }
   ],
   "source": [
    "test.head()"
   ]
  },
  {
   "cell_type": "code",
   "execution_count": 12,
   "id": "efcc9171-96ad-41f0-9cec-6373e068a3f1",
   "metadata": {},
   "outputs": [],
   "source": [
    "data = data[~data.isin(test)].dropna()"
   ]
  },
  {
   "cell_type": "code",
   "execution_count": 13,
   "id": "79a39786-e5ee-49d8-9fdf-26ba9ce3fc86",
   "metadata": {},
   "outputs": [],
   "source": [
    "dev = data.sample(10000)"
   ]
  },
  {
   "cell_type": "code",
   "execution_count": 14,
   "id": "4ff56cba-0457-4e6a-9195-b72355bfed10",
   "metadata": {},
   "outputs": [],
   "source": [
    "train = data[~data.isin(dev)].dropna()"
   ]
  },
  {
   "cell_type": "code",
   "execution_count": 15,
   "id": "5620b06b-de17-4af8-9177-4f48fc16457c",
   "metadata": {},
   "outputs": [
    {
     "data": {
      "text/plain": [
       "(35000, 10000, 5000)"
      ]
     },
     "execution_count": 15,
     "metadata": {},
     "output_type": "execute_result"
    }
   ],
   "source": [
    "len(train), len(dev), len(test)"
   ]
  },
  {
   "cell_type": "code",
   "execution_count": 16,
   "id": "e4666992-2adc-4fac-aa93-fd4992efa866",
   "metadata": {},
   "outputs": [],
   "source": [
    "train.to_csv(MS_PATH + 'pa-transformer/movie_train.csv')"
   ]
  },
  {
   "cell_type": "code",
   "execution_count": 17,
   "id": "e2aba5aa-95ad-47e1-bfff-26fc57e38f64",
   "metadata": {},
   "outputs": [],
   "source": [
    "dev.to_csv(MS_PATH + 'pa-transformer/movie_dev.csv')"
   ]
  },
  {
   "cell_type": "code",
   "execution_count": 18,
   "id": "c42f814f-b4cd-489e-b87e-8465ee806c25",
   "metadata": {},
   "outputs": [],
   "source": [
    "test.to_csv(MS_PATH + 'pa-transformer/movie_test.csv')"
   ]
  },
  {
   "cell_type": "code",
   "execution_count": 19,
   "id": "3cb666a6-28d4-47d0-a774-0c295ca29d51",
   "metadata": {},
   "outputs": [
    {
     "data": {
      "text/plain": [
       "F    17542\n",
       "M    17458\n",
       "Name: gender, dtype: int64"
      ]
     },
     "execution_count": 19,
     "metadata": {},
     "output_type": "execute_result"
    }
   ],
   "source": [
    "train.gender.value_counts()"
   ]
  },
  {
   "cell_type": "code",
   "execution_count": 20,
   "id": "339567ac-7ad8-4590-ac94-365a7a5d0993",
   "metadata": {},
   "outputs": [
    {
     "data": {
      "text/plain": [
       "M    5029\n",
       "F    4971\n",
       "Name: gender, dtype: int64"
      ]
     },
     "execution_count": 20,
     "metadata": {},
     "output_type": "execute_result"
    }
   ],
   "source": [
    "dev.gender.value_counts()"
   ]
  },
  {
   "cell_type": "code",
   "execution_count": 21,
   "id": "c2ca8e40-ddd5-44df-9ccc-2577ae0cf0cc",
   "metadata": {},
   "outputs": [
    {
     "data": {
      "text/plain": [
       "M    2513\n",
       "F    2487\n",
       "Name: gender, dtype: int64"
      ]
     },
     "execution_count": 21,
     "metadata": {},
     "output_type": "execute_result"
    }
   ],
   "source": [
    "test.gender.value_counts()"
   ]
  },
  {
   "cell_type": "markdown",
   "id": "a31c4871-1dd7-44d8-a945-e9e51fd160c4",
   "metadata": {},
   "source": [
    "# view data"
   ]
  },
  {
   "cell_type": "code",
   "execution_count": 10,
   "id": "752408a0-7e32-4cf6-97d3-80ab20538d14",
   "metadata": {},
   "outputs": [],
   "source": [
    "train = pd.read_csv(MS_PATH + 'pa-transformer/movie_train.csv')"
   ]
  },
  {
   "cell_type": "code",
   "execution_count": 11,
   "id": "b22534ed-ceba-4ac3-8c5f-632680503f0c",
   "metadata": {},
   "outputs": [
    {
     "data": {
      "text/html": [
       "<div>\n",
       "<style scoped>\n",
       "    .dataframe tbody tr th:only-of-type {\n",
       "        vertical-align: middle;\n",
       "    }\n",
       "\n",
       "    .dataframe tbody tr th {\n",
       "        vertical-align: top;\n",
       "    }\n",
       "\n",
       "    .dataframe thead th {\n",
       "        text-align: right;\n",
       "    }\n",
       "</style>\n",
       "<table border=\"1\" class=\"dataframe\">\n",
       "  <thead>\n",
       "    <tr style=\"text-align: right;\">\n",
       "      <th></th>\n",
       "      <th>Unnamed: 0</th>\n",
       "      <th>sen</th>\n",
       "      <th>sendel</th>\n",
       "      <th>agency</th>\n",
       "      <th>power</th>\n",
       "      <th>verb</th>\n",
       "      <th>mid</th>\n",
       "      <th>senid</th>\n",
       "      <th>charid</th>\n",
       "      <th>gender</th>\n",
       "    </tr>\n",
       "  </thead>\n",
       "  <tbody>\n",
       "    <tr>\n",
       "      <th>0</th>\n",
       "      <td>32333</td>\n",
       "      <td>He pockets the potion and attempts to flee , b...</td>\n",
       "      <td>He &lt;VERB&gt; the potion and attempts to flee , bu...</td>\n",
       "      <td>equal</td>\n",
       "      <td>pos</td>\n",
       "      <td>pocket</td>\n",
       "      <td>105972.0</td>\n",
       "      <td>34.0</td>\n",
       "      <td>/m/0b440_m</td>\n",
       "      <td>F</td>\n",
       "    </tr>\n",
       "    <tr>\n",
       "      <th>1</th>\n",
       "      <td>58229</td>\n",
       "      <td>She is rescued by Caspian and they return to t...</td>\n",
       "      <td>She is &lt;VERB&gt; by Caspian and they return to th...</td>\n",
       "      <td>pos</td>\n",
       "      <td>pos</td>\n",
       "      <td>rescue</td>\n",
       "      <td>1882179.0</td>\n",
       "      <td>37.0</td>\n",
       "      <td>/m/037fs1</td>\n",
       "      <td>F</td>\n",
       "    </tr>\n",
       "    <tr>\n",
       "      <th>2</th>\n",
       "      <td>75793</td>\n",
       "      <td>He is taken by a car to the safe Emerald City ...</td>\n",
       "      <td>He is &lt;VERB&gt; by a car to the safe Emerald City...</td>\n",
       "      <td>pos</td>\n",
       "      <td>equal</td>\n",
       "      <td>take</td>\n",
       "      <td>7369863.0</td>\n",
       "      <td>8.0</td>\n",
       "      <td>/m/0by40v9</td>\n",
       "      <td>F</td>\n",
       "    </tr>\n",
       "    <tr>\n",
       "      <th>3</th>\n",
       "      <td>146661</td>\n",
       "      <td>She is wearing old-fashioned clothing .</td>\n",
       "      <td>She is &lt;VERB&gt; old-fashioned clothing .</td>\n",
       "      <td>pos</td>\n",
       "      <td>pos</td>\n",
       "      <td>wear</td>\n",
       "      <td>1478417.0</td>\n",
       "      <td>2.0</td>\n",
       "      <td>/m/0b_jwvw</td>\n",
       "      <td>F</td>\n",
       "    </tr>\n",
       "    <tr>\n",
       "      <th>4</th>\n",
       "      <td>113434</td>\n",
       "      <td>In a touching scene , Susan observes as Kris s...</td>\n",
       "      <td>In a touching scene , Susan &lt;VERB&gt; as Kris spe...</td>\n",
       "      <td>neg</td>\n",
       "      <td>equal</td>\n",
       "      <td>observe</td>\n",
       "      <td>80523.0</td>\n",
       "      <td>8.0</td>\n",
       "      <td>/m/09nq2jw</td>\n",
       "      <td>F</td>\n",
       "    </tr>\n",
       "  </tbody>\n",
       "</table>\n",
       "</div>"
      ],
      "text/plain": [
       "   Unnamed: 0                                                sen  \\\n",
       "0       32333  He pockets the potion and attempts to flee , b...   \n",
       "1       58229  She is rescued by Caspian and they return to t...   \n",
       "2       75793  He is taken by a car to the safe Emerald City ...   \n",
       "3      146661            She is wearing old-fashioned clothing .   \n",
       "4      113434  In a touching scene , Susan observes as Kris s...   \n",
       "\n",
       "                                              sendel agency  power     verb  \\\n",
       "0  He <VERB> the potion and attempts to flee , bu...  equal    pos   pocket   \n",
       "1  She is <VERB> by Caspian and they return to th...    pos    pos   rescue   \n",
       "2  He is <VERB> by a car to the safe Emerald City...    pos  equal     take   \n",
       "3             She is <VERB> old-fashioned clothing .    pos    pos     wear   \n",
       "4  In a touching scene , Susan <VERB> as Kris spe...    neg  equal  observe   \n",
       "\n",
       "         mid  senid      charid gender  \n",
       "0   105972.0   34.0  /m/0b440_m      F  \n",
       "1  1882179.0   37.0   /m/037fs1      F  \n",
       "2  7369863.0    8.0  /m/0by40v9      F  \n",
       "3  1478417.0    2.0  /m/0b_jwvw      F  \n",
       "4    80523.0    8.0  /m/09nq2jw      F  "
      ]
     },
     "execution_count": 11,
     "metadata": {},
     "output_type": "execute_result"
    }
   ],
   "source": [
    "train.head()"
   ]
  },
  {
   "cell_type": "code",
   "execution_count": 12,
   "id": "440c6db8-d3e5-4da1-b794-b9581420652b",
   "metadata": {},
   "outputs": [
    {
     "data": {
      "text/plain": [
       "pos      25257\n",
       "equal     5240\n",
       "neg       4503\n",
       "Name: agency, dtype: int64"
      ]
     },
     "execution_count": 12,
     "metadata": {},
     "output_type": "execute_result"
    }
   ],
   "source": [
    "train.agency.value_counts()"
   ]
  },
  {
   "cell_type": "code",
   "execution_count": 13,
   "id": "14932c9f-b70b-42e1-ac49-6a54f985ad53",
   "metadata": {},
   "outputs": [
    {
     "data": {
      "text/plain": [
       "pos      19383\n",
       "equal    11071\n",
       "neg       4546\n",
       "Name: power, dtype: int64"
      ]
     },
     "execution_count": 13,
     "metadata": {},
     "output_type": "execute_result"
    }
   ],
   "source": [
    "train.power.value_counts()"
   ]
  },
  {
   "cell_type": "code",
   "execution_count": 23,
   "id": "35ec3bd2-e226-4836-b0a9-2d96f7b3d5ca",
   "metadata": {},
   "outputs": [],
   "source": [
    "test = pd.read_csv(MS_PATH + 'pa-transformer/movie_test.csv')"
   ]
  },
  {
   "cell_type": "code",
   "execution_count": 39,
   "id": "59047c81-8c88-4a62-9c22-a1345ca6dbca",
   "metadata": {},
   "outputs": [
    {
     "data": {
      "text/plain": [
       "5000"
      ]
     },
     "execution_count": 39,
     "metadata": {},
     "output_type": "execute_result"
    }
   ],
   "source": [
    "len(test)"
   ]
  },
  {
   "cell_type": "code",
   "execution_count": 24,
   "id": "d3710e4e-fe2e-4ed4-930b-555c3f4054fe",
   "metadata": {},
   "outputs": [
    {
     "data": {
      "text/plain": [
       "pos      3670\n",
       "equal     735\n",
       "neg       595\n",
       "Name: agency, dtype: int64"
      ]
     },
     "execution_count": 24,
     "metadata": {},
     "output_type": "execute_result"
    }
   ],
   "source": [
    "test.agency.value_counts()"
   ]
  },
  {
   "cell_type": "code",
   "execution_count": 25,
   "id": "a694a17d-f3aa-476d-88ed-f47a752423bb",
   "metadata": {},
   "outputs": [
    {
     "data": {
      "text/plain": [
       "pos      2848\n",
       "equal    1520\n",
       "neg       632\n",
       "Name: power, dtype: int64"
      ]
     },
     "execution_count": 25,
     "metadata": {},
     "output_type": "execute_result"
    }
   ],
   "source": [
    "test.power.value_counts()"
   ]
  },
  {
   "cell_type": "code",
   "execution_count": null,
   "id": "7d24eab8-2837-4651-960a-2ab49c5b09af",
   "metadata": {},
   "outputs": [],
   "source": []
  }
 ],
 "metadata": {
  "kernelspec": {
   "display_name": "Python 3 (ipykernel)",
   "language": "python",
   "name": "python3"
  },
  "language_info": {
   "codemirror_mode": {
    "name": "ipython",
    "version": 3
   },
   "file_extension": ".py",
   "mimetype": "text/x-python",
   "name": "python",
   "nbconvert_exporter": "python",
   "pygments_lexer": "ipython3",
   "version": "3.9.7"
  }
 },
 "nbformat": 4,
 "nbformat_minor": 5
}
