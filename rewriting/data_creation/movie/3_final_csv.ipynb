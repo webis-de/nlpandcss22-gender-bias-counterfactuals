{
 "cells": [
  {
   "cell_type": "code",
   "execution_count": 1,
   "id": "4bbed2fe-ae4e-4828-8161-dd4541efd828",
   "metadata": {},
   "outputs": [],
   "source": [
    "import os\n",
    "# nvidia-smi\n",
    "os.environ['CUDA_VISIBLE_DEVICES'] = '0'"
   ]
  },
  {
   "cell_type": "code",
   "execution_count": 2,
   "id": "e0d3e30f-7178-4541-b4e5-2ee343e19917",
   "metadata": {},
   "outputs": [],
   "source": [
    "import pandas as pd\n",
    "import csv\n",
    "import numpy as np\n",
    "from tqdm import tqdm\n",
    "tqdm.pandas()"
   ]
  },
  {
   "cell_type": "code",
   "execution_count": 3,
   "id": "c1d62b30-cee0-4ef7-815b-de3a2e5cd0cd",
   "metadata": {},
   "outputs": [],
   "source": [
    "import warnings\n",
    "warnings.filterwarnings(\"ignore\")"
   ]
  },
  {
   "cell_type": "code",
   "execution_count": 4,
   "id": "ea877ba0-c14c-414e-ace9-e6f0c77ddc54",
   "metadata": {},
   "outputs": [],
   "source": [
    "PREFIX = \"../data/\"\n",
    "PA_PATH = PREFIX + \"sap2017-connotation-frames-power-agency/\"\n",
    "MS_PATH = PREFIX + \"bamman2013-movie-summaries/MovieSummaries/\"\n",
    "NLP_PATH = MS_PATH + 'corenlp_plot_summaries/'"
   ]
  },
  {
   "cell_type": "code",
   "execution_count": 5,
   "id": "104106f7-7e3e-41be-a0a8-cf7ae729cd29",
   "metadata": {},
   "outputs": [],
   "source": [
    "import sys\n",
    "from mov_nlp_utils import *"
   ]
  },
  {
   "cell_type": "markdown",
   "id": "432d2466-dc24-4c44-b32c-ea54d5814474",
   "metadata": {},
   "source": [
    "# read data"
   ]
  },
  {
   "cell_type": "markdown",
   "id": "68d9ddfc-e0c5-4ac5-878b-ed3fb1d17031",
   "metadata": {},
   "source": [
    "## sentences"
   ]
  },
  {
   "cell_type": "code",
   "execution_count": 8,
   "id": "8ff9629e-5d36-46c4-86d6-e2131ed5e07c",
   "metadata": {},
   "outputs": [
    {
     "data": {
      "text/plain": [
       "'../../../Daten/bamman2013-movie-summaries/MovieSummaries/character_sentences_verbs.pkl'"
      ]
     },
     "execution_count": 8,
     "metadata": {},
     "output_type": "execute_result"
    }
   ],
   "source": [
    "MS_PATH + 'character_sentences_verbs.pkl'"
   ]
  },
  {
   "cell_type": "code",
   "execution_count": null,
   "id": "4cfd2477-6685-4f0e-811d-6f39ca9574d9",
   "metadata": {},
   "outputs": [],
   "source": [
    "%%time\n",
    "df = pd.read_pickle(MS_PATH + 'character_sentences_verbs.pkl')"
   ]
  },
  {
   "cell_type": "code",
   "execution_count": 27,
   "id": "b6181eaa-4fac-4c0b-86c6-d80c82c6fcd1",
   "metadata": {},
   "outputs": [],
   "source": [
    "df['verb'] = df.verbs.apply(lambda v: v[0]) # first verb only (highest in dep parse tree, most important)"
   ]
  },
  {
   "cell_type": "code",
   "execution_count": 28,
   "id": "99cf4af3-cf6a-4c59-8621-b794f7c624e1",
   "metadata": {},
   "outputs": [],
   "source": [
    "df.drop('verbs', inplace=True, axis=1)"
   ]
  },
  {
   "cell_type": "code",
   "execution_count": 29,
   "id": "b1bca985-5a42-49d9-8fab-2fa258a986e0",
   "metadata": {},
   "outputs": [
    {
     "data": {
      "text/html": [
       "<div>\n",
       "<style scoped>\n",
       "    .dataframe tbody tr th:only-of-type {\n",
       "        vertical-align: middle;\n",
       "    }\n",
       "\n",
       "    .dataframe tbody tr th {\n",
       "        vertical-align: top;\n",
       "    }\n",
       "\n",
       "    .dataframe thead th {\n",
       "        text-align: right;\n",
       "    }\n",
       "</style>\n",
       "<table border=\"1\" class=\"dataframe\">\n",
       "  <thead>\n",
       "    <tr style=\"text-align: right;\">\n",
       "      <th></th>\n",
       "      <th></th>\n",
       "      <th>cid</th>\n",
       "      <th>names</th>\n",
       "      <th>mention</th>\n",
       "      <th>sentence</th>\n",
       "      <th>verb</th>\n",
       "    </tr>\n",
       "  </thead>\n",
       "  <tbody>\n",
       "    <tr>\n",
       "      <th rowspan=\"5\" valign=\"top\">/m/0c01vfc</th>\n",
       "      <th>31186339</th>\n",
       "      <td>/m/0c01vfc</td>\n",
       "      <td>[Katniss]</td>\n",
       "      <td>[(12, 17)]</td>\n",
       "      <td>{'@id': '12', 'tokens': {'token': [OrderedDict...</td>\n",
       "      <td>{'@id': '19', 'word': 'survives', 'lemma': 'su...</td>\n",
       "    </tr>\n",
       "    <tr>\n",
       "      <th>31186339</th>\n",
       "      <td>/m/0c01vfc</td>\n",
       "      <td>[Katniss]</td>\n",
       "      <td>[(18, 8)]</td>\n",
       "      <td>{'@id': '18', 'tokens': {'token': [OrderedDict...</td>\n",
       "      <td>{'@id': '10', 'word': 'warned', 'lemma': 'warn...</td>\n",
       "    </tr>\n",
       "    <tr>\n",
       "      <th>31186339</th>\n",
       "      <td>/m/0c01vfc</td>\n",
       "      <td>[Katniss]</td>\n",
       "      <td>[(21, 1)]</td>\n",
       "      <td>{'@id': '21', 'tokens': {'token': [OrderedDict...</td>\n",
       "      <td>{'@id': '2', 'word': 'has', 'lemma': 'have', '...</td>\n",
       "    </tr>\n",
       "    <tr>\n",
       "      <th>31186339</th>\n",
       "      <td>/m/0c01vfc</td>\n",
       "      <td>[Katniss]</td>\n",
       "      <td>[(23, 2)]</td>\n",
       "      <td>{'@id': '23', 'tokens': {'token': [OrderedDict...</td>\n",
       "      <td>{'@id': '3', 'word': 'runs', 'lemma': 'run', '...</td>\n",
       "    </tr>\n",
       "    <tr>\n",
       "      <th>31186339</th>\n",
       "      <td>/m/0c01vfc</td>\n",
       "      <td>[Katniss]</td>\n",
       "      <td>[(26, 1)]</td>\n",
       "      <td>{'@id': '26', 'tokens': {'token': [OrderedDict...</td>\n",
       "      <td>{'@id': '2', 'word': 'shoots', 'lemma': 'shoot...</td>\n",
       "    </tr>\n",
       "  </tbody>\n",
       "</table>\n",
       "</div>"
      ],
      "text/plain": [
       "                            cid      names     mention  \\\n",
       "/m/0c01vfc 31186339  /m/0c01vfc  [Katniss]  [(12, 17)]   \n",
       "           31186339  /m/0c01vfc  [Katniss]   [(18, 8)]   \n",
       "           31186339  /m/0c01vfc  [Katniss]   [(21, 1)]   \n",
       "           31186339  /m/0c01vfc  [Katniss]   [(23, 2)]   \n",
       "           31186339  /m/0c01vfc  [Katniss]   [(26, 1)]   \n",
       "\n",
       "                                                              sentence  \\\n",
       "/m/0c01vfc 31186339  {'@id': '12', 'tokens': {'token': [OrderedDict...   \n",
       "           31186339  {'@id': '18', 'tokens': {'token': [OrderedDict...   \n",
       "           31186339  {'@id': '21', 'tokens': {'token': [OrderedDict...   \n",
       "           31186339  {'@id': '23', 'tokens': {'token': [OrderedDict...   \n",
       "           31186339  {'@id': '26', 'tokens': {'token': [OrderedDict...   \n",
       "\n",
       "                                                                  verb  \n",
       "/m/0c01vfc 31186339  {'@id': '19', 'word': 'survives', 'lemma': 'su...  \n",
       "           31186339  {'@id': '10', 'word': 'warned', 'lemma': 'warn...  \n",
       "           31186339  {'@id': '2', 'word': 'has', 'lemma': 'have', '...  \n",
       "           31186339  {'@id': '3', 'word': 'runs', 'lemma': 'run', '...  \n",
       "           31186339  {'@id': '2', 'word': 'shoots', 'lemma': 'shoot...  "
      ]
     },
     "execution_count": 29,
     "metadata": {},
     "output_type": "execute_result"
    }
   ],
   "source": [
    "df.head()"
   ]
  },
  {
   "cell_type": "code",
   "execution_count": 30,
   "id": "26a4f8fc-3492-4029-a829-7ceeed743d96",
   "metadata": {},
   "outputs": [
    {
     "data": {
      "text/plain": [
       "32059"
      ]
     },
     "execution_count": 30,
     "metadata": {},
     "output_type": "execute_result"
    }
   ],
   "source": [
    "len(set(df.index)) # 32059 different characters"
   ]
  },
  {
   "cell_type": "markdown",
   "id": "c1475ee1-7a11-4e33-80f4-3a7b9d36cc57",
   "metadata": {},
   "source": [
    "## power_agency"
   ]
  },
  {
   "cell_type": "code",
   "execution_count": 31,
   "id": "c2010cde-9ee3-4097-9ea0-e6630be8ae63",
   "metadata": {},
   "outputs": [],
   "source": [
    "pa = pd.read_csv(PA_PATH + \"agency_power_prepro.csv\", sep=',')"
   ]
  },
  {
   "cell_type": "markdown",
   "id": "c32af457-8666-4313-ad5b-02d90160954c",
   "metadata": {},
   "source": [
    "# get pa per sentence"
   ]
  },
  {
   "cell_type": "code",
   "execution_count": 32,
   "id": "3ddbe8db-d6ed-4cbd-9f09-98301fa41531",
   "metadata": {},
   "outputs": [
    {
     "data": {
      "text/plain": [
       "2220"
      ]
     },
     "execution_count": 32,
     "metadata": {},
     "output_type": "execute_result"
    }
   ],
   "source": [
    "len(df[df.verb.apply(lambda x: True if type(x) == tuple else False)])"
   ]
  },
  {
   "cell_type": "markdown",
   "id": "95bb14c5-8d9a-413c-9747-5f5e95a29698",
   "metadata": {},
   "source": [
    "2220 sentences with a preposition"
   ]
  },
  {
   "cell_type": "code",
   "execution_count": 33,
   "id": "017782be-5f33-4345-83e9-89488b6b0f3e",
   "metadata": {},
   "outputs": [],
   "source": [
    "def get_pa(verb):  \n",
    "    agency = None\n",
    "    power = None        \n",
    "    if type(verb) == tuple:\n",
    "        # (verb, prep)\n",
    "        try:\n",
    "            agency = pa[(pa.lemma == verb[0]['lemma']) & (pa.prep == verb[1]['lemma'])].agency.values[0]\n",
    "        except:\n",
    "            pass\n",
    "        try:\n",
    "            power = pa[(pa.lemma == verb[0]['lemma']) & (pa.prep == verb[1]['lemma'])].power.values[0]\n",
    "        except:\n",
    "            pass\n",
    "    else:\n",
    "        # just verb\n",
    "        try:\n",
    "            agency = pa[(pa.lemma == verb['lemma']) & (~pa.prep.notna())].agency.values[0]\n",
    "        except:\n",
    "            pass\n",
    "        try:\n",
    "            power = pa[(pa.lemma == verb['lemma']) & (~pa.prep.notna())].power.values[0]\n",
    "        except:\n",
    "            pass        \n",
    "            \n",
    "    return agency, power"
   ]
  },
  {
   "cell_type": "code",
   "execution_count": 34,
   "id": "30ed2db3-4fdf-432d-bf1c-47df35e37b6e",
   "metadata": {},
   "outputs": [
    {
     "name": "stderr",
     "output_type": "stream",
     "text": [
      "100%|████████████████████████████████████████████████████████████████████████| 180368/180368 [02:39<00:00, 1133.50it/s]\n"
     ]
    }
   ],
   "source": [
    "df['agency'], df['power'] = zip(*df.verb.progress_apply(get_pa))"
   ]
  },
  {
   "cell_type": "code",
   "execution_count": 35,
   "id": "052ea5c1-b9e5-4448-973a-3f11d40c7554",
   "metadata": {},
   "outputs": [
    {
     "data": {
      "text/html": [
       "<div>\n",
       "<style scoped>\n",
       "    .dataframe tbody tr th:only-of-type {\n",
       "        vertical-align: middle;\n",
       "    }\n",
       "\n",
       "    .dataframe tbody tr th {\n",
       "        vertical-align: top;\n",
       "    }\n",
       "\n",
       "    .dataframe thead th {\n",
       "        text-align: right;\n",
       "    }\n",
       "</style>\n",
       "<table border=\"1\" class=\"dataframe\">\n",
       "  <thead>\n",
       "    <tr style=\"text-align: right;\">\n",
       "      <th></th>\n",
       "      <th></th>\n",
       "      <th>cid</th>\n",
       "      <th>names</th>\n",
       "      <th>mention</th>\n",
       "      <th>sentence</th>\n",
       "      <th>verb</th>\n",
       "      <th>agency</th>\n",
       "      <th>power</th>\n",
       "    </tr>\n",
       "  </thead>\n",
       "  <tbody>\n",
       "    <tr>\n",
       "      <th rowspan=\"5\" valign=\"top\">/m/0c01vfc</th>\n",
       "      <th>31186339</th>\n",
       "      <td>/m/0c01vfc</td>\n",
       "      <td>[Katniss]</td>\n",
       "      <td>[(12, 17)]</td>\n",
       "      <td>{'@id': '12', 'tokens': {'token': [OrderedDict...</td>\n",
       "      <td>{'@id': '19', 'word': 'survives', 'lemma': 'su...</td>\n",
       "      <td>agency_neg</td>\n",
       "      <td>power_equal</td>\n",
       "    </tr>\n",
       "    <tr>\n",
       "      <th>31186339</th>\n",
       "      <td>/m/0c01vfc</td>\n",
       "      <td>[Katniss]</td>\n",
       "      <td>[(18, 8)]</td>\n",
       "      <td>{'@id': '18', 'tokens': {'token': [OrderedDict...</td>\n",
       "      <td>{'@id': '10', 'word': 'warned', 'lemma': 'warn...</td>\n",
       "      <td>agency_pos</td>\n",
       "      <td>power_agent</td>\n",
       "    </tr>\n",
       "    <tr>\n",
       "      <th>31186339</th>\n",
       "      <td>/m/0c01vfc</td>\n",
       "      <td>[Katniss]</td>\n",
       "      <td>[(21, 1)]</td>\n",
       "      <td>{'@id': '21', 'tokens': {'token': [OrderedDict...</td>\n",
       "      <td>{'@id': '2', 'word': 'has', 'lemma': 'have', '...</td>\n",
       "      <td>agency_neg</td>\n",
       "      <td>power_agent</td>\n",
       "    </tr>\n",
       "    <tr>\n",
       "      <th>31186339</th>\n",
       "      <td>/m/0c01vfc</td>\n",
       "      <td>[Katniss]</td>\n",
       "      <td>[(23, 2)]</td>\n",
       "      <td>{'@id': '23', 'tokens': {'token': [OrderedDict...</td>\n",
       "      <td>{'@id': '3', 'word': 'runs', 'lemma': 'run', '...</td>\n",
       "      <td>agency_pos</td>\n",
       "      <td>NaN</td>\n",
       "    </tr>\n",
       "    <tr>\n",
       "      <th>31186339</th>\n",
       "      <td>/m/0c01vfc</td>\n",
       "      <td>[Katniss]</td>\n",
       "      <td>[(26, 1)]</td>\n",
       "      <td>{'@id': '26', 'tokens': {'token': [OrderedDict...</td>\n",
       "      <td>{'@id': '2', 'word': 'shoots', 'lemma': 'shoot...</td>\n",
       "      <td>agency_pos</td>\n",
       "      <td>power_agent</td>\n",
       "    </tr>\n",
       "  </tbody>\n",
       "</table>\n",
       "</div>"
      ],
      "text/plain": [
       "                            cid      names     mention  \\\n",
       "/m/0c01vfc 31186339  /m/0c01vfc  [Katniss]  [(12, 17)]   \n",
       "           31186339  /m/0c01vfc  [Katniss]   [(18, 8)]   \n",
       "           31186339  /m/0c01vfc  [Katniss]   [(21, 1)]   \n",
       "           31186339  /m/0c01vfc  [Katniss]   [(23, 2)]   \n",
       "           31186339  /m/0c01vfc  [Katniss]   [(26, 1)]   \n",
       "\n",
       "                                                              sentence  \\\n",
       "/m/0c01vfc 31186339  {'@id': '12', 'tokens': {'token': [OrderedDict...   \n",
       "           31186339  {'@id': '18', 'tokens': {'token': [OrderedDict...   \n",
       "           31186339  {'@id': '21', 'tokens': {'token': [OrderedDict...   \n",
       "           31186339  {'@id': '23', 'tokens': {'token': [OrderedDict...   \n",
       "           31186339  {'@id': '26', 'tokens': {'token': [OrderedDict...   \n",
       "\n",
       "                                                                  verb  \\\n",
       "/m/0c01vfc 31186339  {'@id': '19', 'word': 'survives', 'lemma': 'su...   \n",
       "           31186339  {'@id': '10', 'word': 'warned', 'lemma': 'warn...   \n",
       "           31186339  {'@id': '2', 'word': 'has', 'lemma': 'have', '...   \n",
       "           31186339  {'@id': '3', 'word': 'runs', 'lemma': 'run', '...   \n",
       "           31186339  {'@id': '2', 'word': 'shoots', 'lemma': 'shoot...   \n",
       "\n",
       "                         agency        power  \n",
       "/m/0c01vfc 31186339  agency_neg  power_equal  \n",
       "           31186339  agency_pos  power_agent  \n",
       "           31186339  agency_neg  power_agent  \n",
       "           31186339  agency_pos          NaN  \n",
       "           31186339  agency_pos  power_agent  "
      ]
     },
     "execution_count": 35,
     "metadata": {},
     "output_type": "execute_result"
    }
   ],
   "source": [
    "df.head()"
   ]
  },
  {
   "cell_type": "code",
   "execution_count": 36,
   "id": "1b64b5ee-d7ad-4c50-b767-db3c31360859",
   "metadata": {},
   "outputs": [
    {
     "data": {
      "text/plain": [
       "180368"
      ]
     },
     "execution_count": 36,
     "metadata": {},
     "output_type": "execute_result"
    }
   ],
   "source": [
    "len(df)"
   ]
  },
  {
   "cell_type": "code",
   "execution_count": 37,
   "id": "c9a873d3-c687-46b2-904d-f4ae6d2074b0",
   "metadata": {},
   "outputs": [],
   "source": [
    "df = df[(df.agency.notna() & df.power.notna())] # power and agency must be there"
   ]
  },
  {
   "cell_type": "code",
   "execution_count": 38,
   "id": "33a71394-8508-4f42-8a27-e4fdb5d5c598",
   "metadata": {},
   "outputs": [
    {
     "data": {
      "text/plain": [
       "150552"
      ]
     },
     "execution_count": 38,
     "metadata": {},
     "output_type": "execute_result"
    }
   ],
   "source": [
    "len(df)"
   ]
  },
  {
   "cell_type": "code",
   "execution_count": 39,
   "id": "52cad2c9-af1d-46f5-9a4f-6ab294d7af45",
   "metadata": {},
   "outputs": [],
   "source": [
    "df.to_pickle(MS_PATH + 'character_sentences_verbs_pa.pkl')"
   ]
  },
  {
   "cell_type": "markdown",
   "id": "9c816518-32af-4568-ad71-eb8fd557b63b",
   "metadata": {},
   "source": [
    "# get genders"
   ]
  },
  {
   "cell_type": "code",
   "execution_count": 40,
   "id": "bc68a4f2-65db-4396-bfe9-69562a30f985",
   "metadata": {},
   "outputs": [
    {
     "name": "stdout",
     "output_type": "stream",
     "text": [
      "Wall time: 2min 18s\n"
     ]
    }
   ],
   "source": [
    "%%time\n",
    "df = pd.read_pickle(MS_PATH + 'character_sentences_verbs_pa.pkl')"
   ]
  },
  {
   "cell_type": "markdown",
   "id": "fa797858-d8cd-4483-960e-4a26d910550b",
   "metadata": {},
   "source": [
    "## read character metadata"
   ]
  },
  {
   "cell_type": "code",
   "execution_count": 12,
   "id": "89a09907-7cc0-44e2-9dd0-b60e4a5be9da",
   "metadata": {},
   "outputs": [],
   "source": [
    "cha = pd.read_csv(MS_PATH + 'character.metadata.tsv', sep='\\t', names=['id', 'fid', 'date', 'cha_name', 'actor_birth', 'actor_gender', 'actor_height', 'actor_ethnicity', 'actor_name', 'actor_age', 'cha_actor_fid', 'cha_fid', 'actor_fid'])\n",
    "cha = cha.drop(columns=['actor_height', 'actor_ethnicity', 'cha_actor_fid'])\n",
    "cha.index = pd.MultiIndex.from_arrays(cha[['id', 'cha_fid']].values.T, names=['mid', 'cid'])\n",
    "cha = cha[cha.cha_name.notna() & cha.actor_gender.notna()] \n",
    "cha = cha[~cha.index.duplicated('first')] "
   ]
  },
  {
   "cell_type": "code",
   "execution_count": 13,
   "id": "270cee1a-44d0-4024-a5f8-4078c193c370",
   "metadata": {},
   "outputs": [],
   "source": [
    "def get_gender(cid):\n",
    "    return cha[cha.cha_fid == cid].actor_gender.values[0]"
   ]
  },
  {
   "cell_type": "code",
   "execution_count": 44,
   "id": "5c90918b-0136-4c39-9bc2-db5aa1120598",
   "metadata": {},
   "outputs": [
    {
     "name": "stderr",
     "output_type": "stream",
     "text": [
      "100%|█████████████████████████████████████████████████████████████████████████| 150552/150552 [18:35<00:00, 134.96it/s]\n"
     ]
    }
   ],
   "source": [
    "df['gender'] = df.cid.progress_apply(get_gender)"
   ]
  },
  {
   "cell_type": "code",
   "execution_count": 45,
   "id": "1ce41a64-a5db-41c4-8e72-74bdc3a7d84d",
   "metadata": {},
   "outputs": [],
   "source": [
    "df.to_pickle(MS_PATH + 'character_sentences_verbs_pa_gender.pkl')"
   ]
  },
  {
   "cell_type": "markdown",
   "id": "315fd642-09d6-46c1-bf39-3f89a2e2a5ba",
   "metadata": {},
   "source": [
    "# To target format"
   ]
  },
  {
   "cell_type": "code",
   "execution_count": 14,
   "id": "955c4d71-879e-4860-9827-139fab91c995",
   "metadata": {},
   "outputs": [
    {
     "name": "stdout",
     "output_type": "stream",
     "text": [
      "Wall time: 29 s\n"
     ]
    }
   ],
   "source": [
    "%%time\n",
    "df = pd.read_pickle(MS_PATH + 'character_sentences_verbs_pa_gender.pkl')"
   ]
  },
  {
   "cell_type": "markdown",
   "id": "8393a2cf-6a99-4fd4-ab32-bf513c2bee26",
   "metadata": {},
   "source": [
    "- original:  ,sen,sendel,oricat,verbs,storyid,sentencenum \n",
    "- here:      ,sen,sendel,agency,power,verbs,mid,senid,charid,gender"
   ]
  },
  {
   "cell_type": "code",
   "execution_count": 15,
   "id": "8ac2ffe5-ac27-45f3-9397-822cc69534f6",
   "metadata": {},
   "outputs": [],
   "source": [
    "data = pd.DataFrame(columns=['sen','sendel','agency','power','verb','mid','senid','charid','gender'])"
   ]
  },
  {
   "cell_type": "code",
   "execution_count": 16,
   "id": "12acc58c-f690-41e1-bb8f-97119a755df3",
   "metadata": {},
   "outputs": [
    {
     "name": "stderr",
     "output_type": "stream",
     "text": [
      "100%|██████████████████████████████████████████████████████████████████████| 150552/150552 [00:00<00:00, 188663.15it/s]\n"
     ]
    }
   ],
   "source": [
    "data['sen'] = df.sentence.progress_apply(sentence_to_raw_string)"
   ]
  },
  {
   "cell_type": "code",
   "execution_count": 17,
   "id": "b480694d-5c30-4851-8dd6-e698f143aab5",
   "metadata": {},
   "outputs": [],
   "source": [
    "MASK = '<VERB>'"
   ]
  },
  {
   "cell_type": "code",
   "execution_count": 18,
   "id": "7461c05b-88f2-40ff-b0cd-eafc5608af90",
   "metadata": {},
   "outputs": [],
   "source": [
    "def mask_verb(row):\n",
    "    t_verb = row.verb\n",
    "    if type(t_verb) == tuple:\n",
    "        # t_verb[1] is then a preposition\n",
    "        t_verb = t_verb[0]\n",
    "    \n",
    "    tokens = []\n",
    "    for t in row.sentence['tokens']['token']:\n",
    "        if t == t_verb:\n",
    "            tokens.append(MASK)\n",
    "        elif not t['word'] in ['-LRB-', '-LCB-', '-RCB-', '-RRB-']: # remove special characters\n",
    "            tokens.append(t['word'])\n",
    "    \n",
    "    return ' '.join(tokens)"
   ]
  },
  {
   "cell_type": "code",
   "execution_count": 19,
   "id": "ce35e0ac-654c-4431-bdaf-7e641e7535b6",
   "metadata": {},
   "outputs": [
    {
     "name": "stderr",
     "output_type": "stream",
     "text": [
      "100%|███████████████████████████████████████████████████████████████████████| 150552/150552 [00:02<00:00, 53829.78it/s]\n"
     ]
    }
   ],
   "source": [
    "data['sendel'] = df.progress_apply(mask_verb, axis=1)"
   ]
  },
  {
   "cell_type": "code",
   "execution_count": 20,
   "id": "b5f53098-00fe-4d2c-8417-20a9ca8bd46e",
   "metadata": {},
   "outputs": [],
   "source": [
    "data['agency'] = df.agency"
   ]
  },
  {
   "cell_type": "code",
   "execution_count": 21,
   "id": "1cb2f7e3-2f30-4b69-9fd5-666f19e91be2",
   "metadata": {},
   "outputs": [],
   "source": [
    "data['power'] = df.power"
   ]
  },
  {
   "cell_type": "code",
   "execution_count": 22,
   "id": "b0b5eb2f-9d74-4059-a796-5bf37beaae9e",
   "metadata": {},
   "outputs": [],
   "source": [
    "def get_verb(verb):\n",
    "    t_verb = verb\n",
    "    if type(t_verb) == tuple:\n",
    "        # t_verb[1] is then a preposition\n",
    "        t_verb = t_verb[0]\n",
    "    return t_verb['lemma']"
   ]
  },
  {
   "cell_type": "code",
   "execution_count": 23,
   "id": "569700dd-05fa-486c-8e7f-e4d3d4373bf6",
   "metadata": {},
   "outputs": [
    {
     "name": "stderr",
     "output_type": "stream",
     "text": [
      "100%|██████████████████████████████████████████████████████████████████████| 150552/150552 [00:00<00:00, 963169.79it/s]\n"
     ]
    }
   ],
   "source": [
    "data['verb'] = df.verb.progress_apply(get_verb)"
   ]
  },
  {
   "cell_type": "code",
   "execution_count": 24,
   "id": "e96f20a2-18cf-4a30-a1b2-43f52cda9908",
   "metadata": {},
   "outputs": [],
   "source": [
    "data['mid'] = [idx[1] for idx in list(df.index)]"
   ]
  },
  {
   "cell_type": "code",
   "execution_count": 25,
   "id": "e18f6851-b638-4e83-ae37-4d2e5be07739",
   "metadata": {},
   "outputs": [
    {
     "name": "stderr",
     "output_type": "stream",
     "text": [
      "100%|█████████████████████████████████████████████████████████████████████| 150552/150552 [00:00<00:00, 1013789.12it/s]\n"
     ]
    }
   ],
   "source": [
    "data['senid'] = df.sentence.progress_apply(lambda s:s['@id'])"
   ]
  },
  {
   "cell_type": "code",
   "execution_count": 26,
   "id": "c8411eba-1b51-499c-a712-7bff96eb4b51",
   "metadata": {},
   "outputs": [],
   "source": [
    "data['charid'] = [idx[0] for idx in list(df.index)]"
   ]
  },
  {
   "cell_type": "code",
   "execution_count": 27,
   "id": "1fbc1c04-c007-4bb1-b816-521de231b605",
   "metadata": {},
   "outputs": [],
   "source": [
    "data['gender'] = df.gender"
   ]
  },
  {
   "cell_type": "code",
   "execution_count": 28,
   "id": "798027c4-db58-4467-84ea-4f301e18886a",
   "metadata": {},
   "outputs": [
    {
     "data": {
      "text/html": [
       "<div>\n",
       "<style scoped>\n",
       "    .dataframe tbody tr th:only-of-type {\n",
       "        vertical-align: middle;\n",
       "    }\n",
       "\n",
       "    .dataframe tbody tr th {\n",
       "        vertical-align: top;\n",
       "    }\n",
       "\n",
       "    .dataframe thead th {\n",
       "        text-align: right;\n",
       "    }\n",
       "</style>\n",
       "<table border=\"1\" class=\"dataframe\">\n",
       "  <thead>\n",
       "    <tr style=\"text-align: right;\">\n",
       "      <th></th>\n",
       "      <th></th>\n",
       "      <th>sen</th>\n",
       "      <th>sendel</th>\n",
       "      <th>agency</th>\n",
       "      <th>power</th>\n",
       "      <th>verb</th>\n",
       "      <th>mid</th>\n",
       "      <th>senid</th>\n",
       "      <th>charid</th>\n",
       "      <th>gender</th>\n",
       "    </tr>\n",
       "  </thead>\n",
       "  <tbody>\n",
       "    <tr>\n",
       "      <th rowspan=\"5\" valign=\"top\">/m/0c01vfc</th>\n",
       "      <th>31186339</th>\n",
       "      <td>The televised Games begin with half of the tri...</td>\n",
       "      <td>The televised Games begin with half of the tri...</td>\n",
       "      <td>agency_neg</td>\n",
       "      <td>power_equal</td>\n",
       "      <td>survive</td>\n",
       "      <td>31186339</td>\n",
       "      <td>12</td>\n",
       "      <td>/m/0c01vfc</td>\n",
       "      <td>F</td>\n",
       "    </tr>\n",
       "    <tr>\n",
       "      <th>31186339</th>\n",
       "      <td>Hallucinating due to tracker jacker venom , Ka...</td>\n",
       "      <td>Hallucinating due to tracker jacker venom , Ka...</td>\n",
       "      <td>agency_pos</td>\n",
       "      <td>power_agent</td>\n",
       "      <td>warn</td>\n",
       "      <td>31186339</td>\n",
       "      <td>18</td>\n",
       "      <td>/m/0c01vfc</td>\n",
       "      <td>F</td>\n",
       "    </tr>\n",
       "    <tr>\n",
       "      <th>31186339</th>\n",
       "      <td>Katniss has Rue draw them off , then destroys ...</td>\n",
       "      <td>Katniss &lt;VERB&gt; Rue draw them off , then destro...</td>\n",
       "      <td>agency_neg</td>\n",
       "      <td>power_agent</td>\n",
       "      <td>have</td>\n",
       "      <td>31186339</td>\n",
       "      <td>21</td>\n",
       "      <td>/m/0c01vfc</td>\n",
       "      <td>F</td>\n",
       "    </tr>\n",
       "    <tr>\n",
       "      <th>31186339</th>\n",
       "      <td>Katniss shoots him dead with an arrow .</td>\n",
       "      <td>Katniss &lt;VERB&gt; him dead with an arrow .</td>\n",
       "      <td>agency_pos</td>\n",
       "      <td>power_agent</td>\n",
       "      <td>shoot</td>\n",
       "      <td>31186339</td>\n",
       "      <td>26</td>\n",
       "      <td>/m/0c01vfc</td>\n",
       "      <td>F</td>\n",
       "    </tr>\n",
       "    <tr>\n",
       "      <th>31186339</th>\n",
       "      <td>Since Katniss and Peeta have been presented to...</td>\n",
       "      <td>Since Katniss and Peeta have been &lt;VERB&gt; to th...</td>\n",
       "      <td>agency_pos</td>\n",
       "      <td>power_agent</td>\n",
       "      <td>present</td>\n",
       "      <td>31186339</td>\n",
       "      <td>31</td>\n",
       "      <td>/m/0c01vfc</td>\n",
       "      <td>F</td>\n",
       "    </tr>\n",
       "  </tbody>\n",
       "</table>\n",
       "</div>"
      ],
      "text/plain": [
       "                                                                   sen  \\\n",
       "/m/0c01vfc 31186339  The televised Games begin with half of the tri...   \n",
       "           31186339  Hallucinating due to tracker jacker venom , Ka...   \n",
       "           31186339  Katniss has Rue draw them off , then destroys ...   \n",
       "           31186339            Katniss shoots him dead with an arrow .   \n",
       "           31186339  Since Katniss and Peeta have been presented to...   \n",
       "\n",
       "                                                                sendel  \\\n",
       "/m/0c01vfc 31186339  The televised Games begin with half of the tri...   \n",
       "           31186339  Hallucinating due to tracker jacker venom , Ka...   \n",
       "           31186339  Katniss <VERB> Rue draw them off , then destro...   \n",
       "           31186339            Katniss <VERB> him dead with an arrow .   \n",
       "           31186339  Since Katniss and Peeta have been <VERB> to th...   \n",
       "\n",
       "                         agency        power     verb       mid senid  \\\n",
       "/m/0c01vfc 31186339  agency_neg  power_equal  survive  31186339    12   \n",
       "           31186339  agency_pos  power_agent     warn  31186339    18   \n",
       "           31186339  agency_neg  power_agent     have  31186339    21   \n",
       "           31186339  agency_pos  power_agent    shoot  31186339    26   \n",
       "           31186339  agency_pos  power_agent  present  31186339    31   \n",
       "\n",
       "                         charid gender  \n",
       "/m/0c01vfc 31186339  /m/0c01vfc      F  \n",
       "           31186339  /m/0c01vfc      F  \n",
       "           31186339  /m/0c01vfc      F  \n",
       "           31186339  /m/0c01vfc      F  \n",
       "           31186339  /m/0c01vfc      F  "
      ]
     },
     "execution_count": 28,
     "metadata": {},
     "output_type": "execute_result"
    }
   ],
   "source": [
    "data.head()"
   ]
  },
  {
   "cell_type": "code",
   "execution_count": 29,
   "id": "2aa578a8-5938-43f5-91d7-bea9696472a1",
   "metadata": {},
   "outputs": [
    {
     "data": {
      "text/html": [
       "<div>\n",
       "<style scoped>\n",
       "    .dataframe tbody tr th:only-of-type {\n",
       "        vertical-align: middle;\n",
       "    }\n",
       "\n",
       "    .dataframe tbody tr th {\n",
       "        vertical-align: top;\n",
       "    }\n",
       "\n",
       "    .dataframe thead th {\n",
       "        text-align: right;\n",
       "    }\n",
       "</style>\n",
       "<table border=\"1\" class=\"dataframe\">\n",
       "  <thead>\n",
       "    <tr style=\"text-align: right;\">\n",
       "      <th></th>\n",
       "      <th></th>\n",
       "      <th>sen</th>\n",
       "      <th>sendel</th>\n",
       "      <th>agency</th>\n",
       "      <th>power</th>\n",
       "      <th>verb</th>\n",
       "      <th>mid</th>\n",
       "      <th>senid</th>\n",
       "      <th>charid</th>\n",
       "      <th>gender</th>\n",
       "    </tr>\n",
       "  </thead>\n",
       "  <tbody>\n",
       "    <tr>\n",
       "      <th rowspan=\"5\" valign=\"top\">/m/0cwf3cw</th>\n",
       "      <th>17208834</th>\n",
       "      <td>Jimmy calls Lindsey to find her .</td>\n",
       "      <td>Jimmy &lt;VERB&gt; Lindsey to find her .</td>\n",
       "      <td>agency_pos</td>\n",
       "      <td>power_theme</td>\n",
       "      <td>call</td>\n",
       "      <td>17208834</td>\n",
       "      <td>18</td>\n",
       "      <td>/m/0cwf3cw</td>\n",
       "      <td>M</td>\n",
       "    </tr>\n",
       "    <tr>\n",
       "      <th>17208834</th>\n",
       "      <td>Jimmy , however , is forced to go back for it ...</td>\n",
       "      <td>Jimmy , however , is &lt;VERB&gt; to go back for it ...</td>\n",
       "      <td>agency_pos</td>\n",
       "      <td>power_agent</td>\n",
       "      <td>force</td>\n",
       "      <td>17208834</td>\n",
       "      <td>35</td>\n",
       "      <td>/m/0cwf3cw</td>\n",
       "      <td>M</td>\n",
       "    </tr>\n",
       "    <tr>\n",
       "      <th>17208834</th>\n",
       "      <td>In the gym , Jimmy and Lindsey are still looki...</td>\n",
       "      <td>In the gym , Jimmy and Lindsey are still &lt;VERB...</td>\n",
       "      <td>agency_equal</td>\n",
       "      <td>power_equal</td>\n",
       "      <td>look</td>\n",
       "      <td>17208834</td>\n",
       "      <td>44</td>\n",
       "      <td>/m/0cwf3cw</td>\n",
       "      <td>M</td>\n",
       "    </tr>\n",
       "    <tr>\n",
       "      <th>17208834</th>\n",
       "      <td>Jimmy and Lindsey are forced to hide beneath t...</td>\n",
       "      <td>Jimmy and Lindsey are &lt;VERB&gt; to hide beneath t...</td>\n",
       "      <td>agency_pos</td>\n",
       "      <td>power_agent</td>\n",
       "      <td>force</td>\n",
       "      <td>17208834</td>\n",
       "      <td>46</td>\n",
       "      <td>/m/0cwf3cw</td>\n",
       "      <td>M</td>\n",
       "    </tr>\n",
       "    <tr>\n",
       "      <th>17208834</th>\n",
       "      <td>The band manages to plug in their instruments ...</td>\n",
       "      <td>The band manages to plug in their instruments ...</td>\n",
       "      <td>agency_pos</td>\n",
       "      <td>power_agent</td>\n",
       "      <td>get</td>\n",
       "      <td>17208834</td>\n",
       "      <td>48</td>\n",
       "      <td>/m/0cwf3cw</td>\n",
       "      <td>M</td>\n",
       "    </tr>\n",
       "  </tbody>\n",
       "</table>\n",
       "</div>"
      ],
      "text/plain": [
       "                                                                   sen  \\\n",
       "/m/0cwf3cw 17208834                  Jimmy calls Lindsey to find her .   \n",
       "           17208834  Jimmy , however , is forced to go back for it ...   \n",
       "           17208834  In the gym , Jimmy and Lindsey are still looki...   \n",
       "           17208834  Jimmy and Lindsey are forced to hide beneath t...   \n",
       "           17208834  The band manages to plug in their instruments ...   \n",
       "\n",
       "                                                                sendel  \\\n",
       "/m/0cwf3cw 17208834                 Jimmy <VERB> Lindsey to find her .   \n",
       "           17208834  Jimmy , however , is <VERB> to go back for it ...   \n",
       "           17208834  In the gym , Jimmy and Lindsey are still <VERB...   \n",
       "           17208834  Jimmy and Lindsey are <VERB> to hide beneath t...   \n",
       "           17208834  The band manages to plug in their instruments ...   \n",
       "\n",
       "                           agency        power   verb       mid senid  \\\n",
       "/m/0cwf3cw 17208834    agency_pos  power_theme   call  17208834    18   \n",
       "           17208834    agency_pos  power_agent  force  17208834    35   \n",
       "           17208834  agency_equal  power_equal   look  17208834    44   \n",
       "           17208834    agency_pos  power_agent  force  17208834    46   \n",
       "           17208834    agency_pos  power_agent    get  17208834    48   \n",
       "\n",
       "                         charid gender  \n",
       "/m/0cwf3cw 17208834  /m/0cwf3cw      M  \n",
       "           17208834  /m/0cwf3cw      M  \n",
       "           17208834  /m/0cwf3cw      M  \n",
       "           17208834  /m/0cwf3cw      M  \n",
       "           17208834  /m/0cwf3cw      M  "
      ]
     },
     "execution_count": 29,
     "metadata": {},
     "output_type": "execute_result"
    }
   ],
   "source": [
    "data.tail()"
   ]
  },
  {
   "cell_type": "code",
   "execution_count": 30,
   "id": "3477d382-661d-4c83-8c90-3af07d867d10",
   "metadata": {},
   "outputs": [
    {
     "data": {
      "text/plain": [
       "M    97604\n",
       "F    52948\n",
       "Name: gender, dtype: int64"
      ]
     },
     "execution_count": 30,
     "metadata": {},
     "output_type": "execute_result"
    }
   ],
   "source": [
    "data.gender.value_counts()"
   ]
  },
  {
   "cell_type": "code",
   "execution_count": 31,
   "id": "b745469d-bcbd-4d0b-972a-a4537854610a",
   "metadata": {},
   "outputs": [],
   "source": [
    "data = data.reset_index(drop=True)"
   ]
  },
  {
   "cell_type": "code",
   "execution_count": 32,
   "id": "e4e1be12-ebc8-43c8-86ba-19bc7eabd3ef",
   "metadata": {},
   "outputs": [
    {
     "data": {
      "text/html": [
       "<div>\n",
       "<style scoped>\n",
       "    .dataframe tbody tr th:only-of-type {\n",
       "        vertical-align: middle;\n",
       "    }\n",
       "\n",
       "    .dataframe tbody tr th {\n",
       "        vertical-align: top;\n",
       "    }\n",
       "\n",
       "    .dataframe thead th {\n",
       "        text-align: right;\n",
       "    }\n",
       "</style>\n",
       "<table border=\"1\" class=\"dataframe\">\n",
       "  <thead>\n",
       "    <tr style=\"text-align: right;\">\n",
       "      <th></th>\n",
       "      <th>sen</th>\n",
       "      <th>sendel</th>\n",
       "      <th>agency</th>\n",
       "      <th>power</th>\n",
       "      <th>verb</th>\n",
       "      <th>mid</th>\n",
       "      <th>senid</th>\n",
       "      <th>charid</th>\n",
       "      <th>gender</th>\n",
       "    </tr>\n",
       "  </thead>\n",
       "  <tbody>\n",
       "    <tr>\n",
       "      <th>0</th>\n",
       "      <td>The televised Games begin with half of the tri...</td>\n",
       "      <td>The televised Games begin with half of the tri...</td>\n",
       "      <td>agency_neg</td>\n",
       "      <td>power_equal</td>\n",
       "      <td>survive</td>\n",
       "      <td>31186339</td>\n",
       "      <td>12</td>\n",
       "      <td>/m/0c01vfc</td>\n",
       "      <td>F</td>\n",
       "    </tr>\n",
       "    <tr>\n",
       "      <th>1</th>\n",
       "      <td>Hallucinating due to tracker jacker venom , Ka...</td>\n",
       "      <td>Hallucinating due to tracker jacker venom , Ka...</td>\n",
       "      <td>agency_pos</td>\n",
       "      <td>power_agent</td>\n",
       "      <td>warn</td>\n",
       "      <td>31186339</td>\n",
       "      <td>18</td>\n",
       "      <td>/m/0c01vfc</td>\n",
       "      <td>F</td>\n",
       "    </tr>\n",
       "    <tr>\n",
       "      <th>2</th>\n",
       "      <td>Katniss has Rue draw them off , then destroys ...</td>\n",
       "      <td>Katniss &lt;VERB&gt; Rue draw them off , then destro...</td>\n",
       "      <td>agency_neg</td>\n",
       "      <td>power_agent</td>\n",
       "      <td>have</td>\n",
       "      <td>31186339</td>\n",
       "      <td>21</td>\n",
       "      <td>/m/0c01vfc</td>\n",
       "      <td>F</td>\n",
       "    </tr>\n",
       "    <tr>\n",
       "      <th>3</th>\n",
       "      <td>Katniss shoots him dead with an arrow .</td>\n",
       "      <td>Katniss &lt;VERB&gt; him dead with an arrow .</td>\n",
       "      <td>agency_pos</td>\n",
       "      <td>power_agent</td>\n",
       "      <td>shoot</td>\n",
       "      <td>31186339</td>\n",
       "      <td>26</td>\n",
       "      <td>/m/0c01vfc</td>\n",
       "      <td>F</td>\n",
       "    </tr>\n",
       "    <tr>\n",
       "      <th>4</th>\n",
       "      <td>Since Katniss and Peeta have been presented to...</td>\n",
       "      <td>Since Katniss and Peeta have been &lt;VERB&gt; to th...</td>\n",
       "      <td>agency_pos</td>\n",
       "      <td>power_agent</td>\n",
       "      <td>present</td>\n",
       "      <td>31186339</td>\n",
       "      <td>31</td>\n",
       "      <td>/m/0c01vfc</td>\n",
       "      <td>F</td>\n",
       "    </tr>\n",
       "  </tbody>\n",
       "</table>\n",
       "</div>"
      ],
      "text/plain": [
       "                                                 sen  \\\n",
       "0  The televised Games begin with half of the tri...   \n",
       "1  Hallucinating due to tracker jacker venom , Ka...   \n",
       "2  Katniss has Rue draw them off , then destroys ...   \n",
       "3            Katniss shoots him dead with an arrow .   \n",
       "4  Since Katniss and Peeta have been presented to...   \n",
       "\n",
       "                                              sendel      agency        power  \\\n",
       "0  The televised Games begin with half of the tri...  agency_neg  power_equal   \n",
       "1  Hallucinating due to tracker jacker venom , Ka...  agency_pos  power_agent   \n",
       "2  Katniss <VERB> Rue draw them off , then destro...  agency_neg  power_agent   \n",
       "3            Katniss <VERB> him dead with an arrow .  agency_pos  power_agent   \n",
       "4  Since Katniss and Peeta have been <VERB> to th...  agency_pos  power_agent   \n",
       "\n",
       "      verb       mid senid      charid gender  \n",
       "0  survive  31186339    12  /m/0c01vfc      F  \n",
       "1     warn  31186339    18  /m/0c01vfc      F  \n",
       "2     have  31186339    21  /m/0c01vfc      F  \n",
       "3    shoot  31186339    26  /m/0c01vfc      F  \n",
       "4  present  31186339    31  /m/0c01vfc      F  "
      ]
     },
     "execution_count": 32,
     "metadata": {},
     "output_type": "execute_result"
    }
   ],
   "source": [
    "data.head()"
   ]
  },
  {
   "cell_type": "code",
   "execution_count": 33,
   "id": "018f6454-b2e7-4198-b222-e224bb1fd5ef",
   "metadata": {},
   "outputs": [],
   "source": [
    "data.to_csv(MS_PATH + 'pa-transformer/movie_sentences.csv')"
   ]
  },
  {
   "cell_type": "markdown",
   "id": "f1c7095d-e2c2-48b6-ac71-efa92d6642dc",
   "metadata": {},
   "source": [
    "## map agency and power"
   ]
  },
  {
   "cell_type": "code",
   "execution_count": 12,
   "id": "85ec27d7-347e-4c56-a3f0-03601f4ff226",
   "metadata": {},
   "outputs": [],
   "source": [
    "data = pd.read_csv(MS_PATH + 'pa-transformer/movie_sentences.csv', index_col=0)"
   ]
  },
  {
   "cell_type": "code",
   "execution_count": 18,
   "id": "5b28645a-a5dd-4034-ac82-dfbbb7ab4063",
   "metadata": {},
   "outputs": [
    {
     "data": {
      "text/html": [
       "<div>\n",
       "<style scoped>\n",
       "    .dataframe tbody tr th:only-of-type {\n",
       "        vertical-align: middle;\n",
       "    }\n",
       "\n",
       "    .dataframe tbody tr th {\n",
       "        vertical-align: top;\n",
       "    }\n",
       "\n",
       "    .dataframe thead th {\n",
       "        text-align: right;\n",
       "    }\n",
       "</style>\n",
       "<table border=\"1\" class=\"dataframe\">\n",
       "  <thead>\n",
       "    <tr style=\"text-align: right;\">\n",
       "      <th></th>\n",
       "      <th>sen</th>\n",
       "      <th>sendel</th>\n",
       "      <th>agency</th>\n",
       "      <th>power</th>\n",
       "      <th>verb</th>\n",
       "      <th>mid</th>\n",
       "      <th>senid</th>\n",
       "      <th>charid</th>\n",
       "      <th>gender</th>\n",
       "    </tr>\n",
       "  </thead>\n",
       "  <tbody>\n",
       "    <tr>\n",
       "      <th>0</th>\n",
       "      <td>The televised Games begin with half of the tri...</td>\n",
       "      <td>The televised Games begin with half of the tri...</td>\n",
       "      <td>neg</td>\n",
       "      <td>equal</td>\n",
       "      <td>survive</td>\n",
       "      <td>31186339</td>\n",
       "      <td>12</td>\n",
       "      <td>/m/0c01vfc</td>\n",
       "      <td>F</td>\n",
       "    </tr>\n",
       "    <tr>\n",
       "      <th>1</th>\n",
       "      <td>Hallucinating due to tracker jacker venom , Ka...</td>\n",
       "      <td>Hallucinating due to tracker jacker venom , Ka...</td>\n",
       "      <td>pos</td>\n",
       "      <td>pos</td>\n",
       "      <td>warn</td>\n",
       "      <td>31186339</td>\n",
       "      <td>18</td>\n",
       "      <td>/m/0c01vfc</td>\n",
       "      <td>F</td>\n",
       "    </tr>\n",
       "    <tr>\n",
       "      <th>2</th>\n",
       "      <td>Katniss has Rue draw them off , then destroys ...</td>\n",
       "      <td>Katniss &lt;VERB&gt; Rue draw them off , then destro...</td>\n",
       "      <td>neg</td>\n",
       "      <td>pos</td>\n",
       "      <td>have</td>\n",
       "      <td>31186339</td>\n",
       "      <td>21</td>\n",
       "      <td>/m/0c01vfc</td>\n",
       "      <td>F</td>\n",
       "    </tr>\n",
       "    <tr>\n",
       "      <th>3</th>\n",
       "      <td>Katniss shoots him dead with an arrow .</td>\n",
       "      <td>Katniss &lt;VERB&gt; him dead with an arrow .</td>\n",
       "      <td>pos</td>\n",
       "      <td>pos</td>\n",
       "      <td>shoot</td>\n",
       "      <td>31186339</td>\n",
       "      <td>26</td>\n",
       "      <td>/m/0c01vfc</td>\n",
       "      <td>F</td>\n",
       "    </tr>\n",
       "    <tr>\n",
       "      <th>4</th>\n",
       "      <td>Since Katniss and Peeta have been presented to...</td>\n",
       "      <td>Since Katniss and Peeta have been &lt;VERB&gt; to th...</td>\n",
       "      <td>pos</td>\n",
       "      <td>pos</td>\n",
       "      <td>present</td>\n",
       "      <td>31186339</td>\n",
       "      <td>31</td>\n",
       "      <td>/m/0c01vfc</td>\n",
       "      <td>F</td>\n",
       "    </tr>\n",
       "  </tbody>\n",
       "</table>\n",
       "</div>"
      ],
      "text/plain": [
       "                                                 sen  \\\n",
       "0  The televised Games begin with half of the tri...   \n",
       "1  Hallucinating due to tracker jacker venom , Ka...   \n",
       "2  Katniss has Rue draw them off , then destroys ...   \n",
       "3            Katniss shoots him dead with an arrow .   \n",
       "4  Since Katniss and Peeta have been presented to...   \n",
       "\n",
       "                                              sendel agency  power     verb  \\\n",
       "0  The televised Games begin with half of the tri...    neg  equal  survive   \n",
       "1  Hallucinating due to tracker jacker venom , Ka...    pos    pos     warn   \n",
       "2  Katniss <VERB> Rue draw them off , then destro...    neg    pos     have   \n",
       "3            Katniss <VERB> him dead with an arrow .    pos    pos    shoot   \n",
       "4  Since Katniss and Peeta have been <VERB> to th...    pos    pos  present   \n",
       "\n",
       "        mid  senid      charid gender  \n",
       "0  31186339     12  /m/0c01vfc      F  \n",
       "1  31186339     18  /m/0c01vfc      F  \n",
       "2  31186339     21  /m/0c01vfc      F  \n",
       "3  31186339     26  /m/0c01vfc      F  \n",
       "4  31186339     31  /m/0c01vfc      F  "
      ]
     },
     "execution_count": 18,
     "metadata": {},
     "output_type": "execute_result"
    }
   ],
   "source": [
    "data.head()"
   ]
  },
  {
   "cell_type": "code",
   "execution_count": 15,
   "id": "09305486-b6c4-4243-b227-935f95e3ad30",
   "metadata": {},
   "outputs": [],
   "source": [
    "data.agency = data.agency.map({'agency_pos': 'pos', 'agency_equal': 'equal', 'agency_neg': 'neg' })"
   ]
  },
  {
   "cell_type": "code",
   "execution_count": 17,
   "id": "98badf2f-c8ac-4d58-9eaa-cf51542e39fc",
   "metadata": {},
   "outputs": [],
   "source": [
    "data.power = data.power.map({'power_agent': 'pos', 'power_equal': 'equal', 'power_theme': 'neg' })"
   ]
  },
  {
   "cell_type": "code",
   "execution_count": 20,
   "id": "f81a3907-1c2d-4608-9c0d-e557f2daaec8",
   "metadata": {},
   "outputs": [
    {
     "data": {
      "text/plain": [
       "pos      109969\n",
       "equal     21750\n",
       "neg       18833\n",
       "Name: agency, dtype: int64"
      ]
     },
     "execution_count": 20,
     "metadata": {},
     "output_type": "execute_result"
    }
   ],
   "source": [
    "data.agency.value_counts()"
   ]
  },
  {
   "cell_type": "code",
   "execution_count": 21,
   "id": "57c09d60-9bef-4f6a-b14d-6a75b95ca418",
   "metadata": {},
   "outputs": [
    {
     "data": {
      "text/plain": [
       "pos      83439\n",
       "equal    47675\n",
       "neg      19438\n",
       "Name: power, dtype: int64"
      ]
     },
     "execution_count": 21,
     "metadata": {},
     "output_type": "execute_result"
    }
   ],
   "source": [
    "data.power.value_counts()"
   ]
  },
  {
   "cell_type": "code",
   "execution_count": 23,
   "id": "189d4722-3e5e-4e12-971c-3f1703bcc73c",
   "metadata": {},
   "outputs": [
    {
     "data": {
      "text/plain": [
       "'../../../Daten/bamman2013-movie-summaries/MovieSummaries/pa-transformer/movie_sentences.csv'"
      ]
     },
     "execution_count": 23,
     "metadata": {},
     "output_type": "execute_result"
    }
   ],
   "source": [
    "MS_PATH + 'pa-transformer/movie_sentences.csv'"
   ]
  },
  {
   "cell_type": "code",
   "execution_count": 24,
   "id": "2553b09e-bd16-461e-ad88-e15f24da6a60",
   "metadata": {},
   "outputs": [],
   "source": [
    "data.to_csv(MS_PATH + 'pa-transformer/movie_sentences.csv')"
   ]
  },
  {
   "cell_type": "markdown",
   "id": "dc3e6051-3626-477b-86f0-8139c161e409",
   "metadata": {},
   "source": [
    "# filter too long sentences"
   ]
  },
  {
   "cell_type": "code",
   "execution_count": 6,
   "id": "8a8de739-683b-44fe-afd8-563c8e9b5639",
   "metadata": {},
   "outputs": [],
   "source": [
    "data = pd.read_csv(MS_PATH + 'pa-transformer/movie_sentences.csv', index_col=0)"
   ]
  },
  {
   "cell_type": "code",
   "execution_count": 7,
   "id": "da909dc0-fd2b-4c96-9ef4-a6168a9d6d70",
   "metadata": {},
   "outputs": [
    {
     "data": {
      "text/html": [
       "<div>\n",
       "<style scoped>\n",
       "    .dataframe tbody tr th:only-of-type {\n",
       "        vertical-align: middle;\n",
       "    }\n",
       "\n",
       "    .dataframe tbody tr th {\n",
       "        vertical-align: top;\n",
       "    }\n",
       "\n",
       "    .dataframe thead th {\n",
       "        text-align: right;\n",
       "    }\n",
       "</style>\n",
       "<table border=\"1\" class=\"dataframe\">\n",
       "  <thead>\n",
       "    <tr style=\"text-align: right;\">\n",
       "      <th></th>\n",
       "      <th>sen</th>\n",
       "      <th>sendel</th>\n",
       "      <th>agency</th>\n",
       "      <th>power</th>\n",
       "      <th>verb</th>\n",
       "      <th>mid</th>\n",
       "      <th>senid</th>\n",
       "      <th>charid</th>\n",
       "      <th>gender</th>\n",
       "    </tr>\n",
       "  </thead>\n",
       "  <tbody>\n",
       "    <tr>\n",
       "      <th>0</th>\n",
       "      <td>The televised Games begin with half of the tri...</td>\n",
       "      <td>The televised Games begin with half of the tri...</td>\n",
       "      <td>neg</td>\n",
       "      <td>equal</td>\n",
       "      <td>survive</td>\n",
       "      <td>31186339</td>\n",
       "      <td>12</td>\n",
       "      <td>/m/0c01vfc</td>\n",
       "      <td>F</td>\n",
       "    </tr>\n",
       "    <tr>\n",
       "      <th>1</th>\n",
       "      <td>Hallucinating due to tracker jacker venom , Ka...</td>\n",
       "      <td>Hallucinating due to tracker jacker venom , Ka...</td>\n",
       "      <td>pos</td>\n",
       "      <td>pos</td>\n",
       "      <td>warn</td>\n",
       "      <td>31186339</td>\n",
       "      <td>18</td>\n",
       "      <td>/m/0c01vfc</td>\n",
       "      <td>F</td>\n",
       "    </tr>\n",
       "    <tr>\n",
       "      <th>2</th>\n",
       "      <td>Katniss has Rue draw them off , then destroys ...</td>\n",
       "      <td>Katniss &lt;VERB&gt; Rue draw them off , then destro...</td>\n",
       "      <td>neg</td>\n",
       "      <td>pos</td>\n",
       "      <td>have</td>\n",
       "      <td>31186339</td>\n",
       "      <td>21</td>\n",
       "      <td>/m/0c01vfc</td>\n",
       "      <td>F</td>\n",
       "    </tr>\n",
       "    <tr>\n",
       "      <th>3</th>\n",
       "      <td>Katniss shoots him dead with an arrow .</td>\n",
       "      <td>Katniss &lt;VERB&gt; him dead with an arrow .</td>\n",
       "      <td>pos</td>\n",
       "      <td>pos</td>\n",
       "      <td>shoot</td>\n",
       "      <td>31186339</td>\n",
       "      <td>26</td>\n",
       "      <td>/m/0c01vfc</td>\n",
       "      <td>F</td>\n",
       "    </tr>\n",
       "    <tr>\n",
       "      <th>4</th>\n",
       "      <td>Since Katniss and Peeta have been presented to...</td>\n",
       "      <td>Since Katniss and Peeta have been &lt;VERB&gt; to th...</td>\n",
       "      <td>pos</td>\n",
       "      <td>pos</td>\n",
       "      <td>present</td>\n",
       "      <td>31186339</td>\n",
       "      <td>31</td>\n",
       "      <td>/m/0c01vfc</td>\n",
       "      <td>F</td>\n",
       "    </tr>\n",
       "  </tbody>\n",
       "</table>\n",
       "</div>"
      ],
      "text/plain": [
       "                                                 sen  \\\n",
       "0  The televised Games begin with half of the tri...   \n",
       "1  Hallucinating due to tracker jacker venom , Ka...   \n",
       "2  Katniss has Rue draw them off , then destroys ...   \n",
       "3            Katniss shoots him dead with an arrow .   \n",
       "4  Since Katniss and Peeta have been presented to...   \n",
       "\n",
       "                                              sendel agency  power     verb  \\\n",
       "0  The televised Games begin with half of the tri...    neg  equal  survive   \n",
       "1  Hallucinating due to tracker jacker venom , Ka...    pos    pos     warn   \n",
       "2  Katniss <VERB> Rue draw them off , then destro...    neg    pos     have   \n",
       "3            Katniss <VERB> him dead with an arrow .    pos    pos    shoot   \n",
       "4  Since Katniss and Peeta have been <VERB> to th...    pos    pos  present   \n",
       "\n",
       "        mid  senid      charid gender  \n",
       "0  31186339     12  /m/0c01vfc      F  \n",
       "1  31186339     18  /m/0c01vfc      F  \n",
       "2  31186339     21  /m/0c01vfc      F  \n",
       "3  31186339     26  /m/0c01vfc      F  \n",
       "4  31186339     31  /m/0c01vfc      F  "
      ]
     },
     "execution_count": 7,
     "metadata": {},
     "output_type": "execute_result"
    }
   ],
   "source": [
    "data.head()"
   ]
  },
  {
   "cell_type": "code",
   "execution_count": 8,
   "id": "e66a9626-f6c6-4270-a8a4-b621e347e5ea",
   "metadata": {},
   "outputs": [
    {
     "data": {
      "text/plain": [
       "count    150552.000000\n",
       "mean         23.442990\n",
       "std          10.563201\n",
       "min           4.000000\n",
       "25%          16.000000\n",
       "50%          22.000000\n",
       "75%          29.000000\n",
       "max         173.000000\n",
       "Name: sen, dtype: float64"
      ]
     },
     "execution_count": 8,
     "metadata": {},
     "output_type": "execute_result"
    }
   ],
   "source": [
    "data.sen.apply(lambda s: len(s.split(' '))).describe()"
   ]
  },
  {
   "cell_type": "code",
   "execution_count": 9,
   "id": "67095013-69df-400d-88ef-95bec4d9bc9f",
   "metadata": {},
   "outputs": [
    {
     "data": {
      "text/plain": [
       "28.0"
      ]
     },
     "execution_count": 9,
     "metadata": {},
     "output_type": "execute_result"
    }
   ],
   "source": [
    "64 / 2 -4"
   ]
  },
  {
   "cell_type": "code",
   "execution_count": 10,
   "id": "c9782077-27de-4d8e-97f3-877144fa859b",
   "metadata": {},
   "outputs": [],
   "source": [
    "max_sen_len = 28"
   ]
  },
  {
   "cell_type": "code",
   "execution_count": 11,
   "id": "293af9b3-dff1-432f-960e-501b6392c242",
   "metadata": {},
   "outputs": [],
   "source": [
    "test = data[data.sen.apply(lambda s: len(s.split(' ')) <= max_sen_len)]"
   ]
  },
  {
   "cell_type": "code",
   "execution_count": 12,
   "id": "335172a9-6ebe-4631-941f-d2cac4c4cd6e",
   "metadata": {},
   "outputs": [],
   "source": [
    "testf = test[test.gender == 'F'].sample(25000, random_state=42)"
   ]
  },
  {
   "cell_type": "code",
   "execution_count": 13,
   "id": "624f0444-721d-476b-ac89-6b3db1e9f18c",
   "metadata": {},
   "outputs": [],
   "source": [
    "testm = test[test.gender == 'M'].sample(25000, random_state=42)"
   ]
  },
  {
   "cell_type": "code",
   "execution_count": 14,
   "id": "b308e561-789d-413a-b4a5-d5c33d9ce207",
   "metadata": {},
   "outputs": [
    {
     "name": "stdout",
     "output_type": "stream",
     "text": [
      "0.71412\n",
      "0.1546\n",
      "0.13128\n"
     ]
    }
   ],
   "source": [
    "print(testf.agency.value_counts().pos / len(testf))\n",
    "print(testf.agency.value_counts().equal / len(testf))\n",
    "print(testf.agency.value_counts().neg / len(testf))"
   ]
  },
  {
   "cell_type": "code",
   "execution_count": 15,
   "id": "4c3bf3e2-7f57-4912-9559-7f963f3a0c55",
   "metadata": {},
   "outputs": [
    {
     "name": "stdout",
     "output_type": "stream",
     "text": [
      "0.542\n",
      "0.3254\n",
      "0.1326\n"
     ]
    }
   ],
   "source": [
    "print(testf.power.value_counts().pos / len(testf))\n",
    "print(testf.power.value_counts().equal / len(testf))\n",
    "print(testf.power.value_counts().neg / len(testf))"
   ]
  },
  {
   "cell_type": "code",
   "execution_count": 16,
   "id": "03298734-9647-4ecf-bc18-355cded9e056",
   "metadata": {},
   "outputs": [
    {
     "name": "stdout",
     "output_type": "stream",
     "text": [
      "0.7364\n",
      "0.14196\n",
      "0.12164\n"
     ]
    }
   ],
   "source": [
    "print(testm.agency.value_counts().pos / len(testm))\n",
    "print(testm.agency.value_counts().equal / len(testm))\n",
    "print(testm.agency.value_counts().neg / len(testm))"
   ]
  },
  {
   "cell_type": "code",
   "execution_count": 17,
   "id": "5a16830c-028a-46bc-b5bf-96bdca7ca67b",
   "metadata": {},
   "outputs": [
    {
     "name": "stdout",
     "output_type": "stream",
     "text": [
      "0.56928\n",
      "0.30616\n",
      "0.12456\n"
     ]
    }
   ],
   "source": [
    "print(testm.power.value_counts().pos / len(testm))\n",
    "print(testm.power.value_counts().equal / len(testm))\n",
    "print(testm.power.value_counts().neg / len(testm))"
   ]
  },
  {
   "cell_type": "code",
   "execution_count": 18,
   "id": "0f25e4e4-3ab5-4dd8-a499-30ad96ec3f0b",
   "metadata": {},
   "outputs": [],
   "source": [
    "final_data = testf.append(testm)"
   ]
  },
  {
   "cell_type": "code",
   "execution_count": 19,
   "id": "2db3fb16-9379-4841-a9ef-6426a9e95d93",
   "metadata": {},
   "outputs": [
    {
     "data": {
      "text/html": [
       "<div>\n",
       "<style scoped>\n",
       "    .dataframe tbody tr th:only-of-type {\n",
       "        vertical-align: middle;\n",
       "    }\n",
       "\n",
       "    .dataframe tbody tr th {\n",
       "        vertical-align: top;\n",
       "    }\n",
       "\n",
       "    .dataframe thead th {\n",
       "        text-align: right;\n",
       "    }\n",
       "</style>\n",
       "<table border=\"1\" class=\"dataframe\">\n",
       "  <thead>\n",
       "    <tr style=\"text-align: right;\">\n",
       "      <th></th>\n",
       "      <th>sen</th>\n",
       "      <th>sendel</th>\n",
       "      <th>agency</th>\n",
       "      <th>power</th>\n",
       "      <th>verb</th>\n",
       "      <th>mid</th>\n",
       "      <th>senid</th>\n",
       "      <th>charid</th>\n",
       "      <th>gender</th>\n",
       "    </tr>\n",
       "  </thead>\n",
       "  <tbody>\n",
       "    <tr>\n",
       "      <th>85173</th>\n",
       "      <td>When she refuses , Jane , her father and Guilf...</td>\n",
       "      <td>When she refuses , Jane , her father and Guilf...</td>\n",
       "      <td>pos</td>\n",
       "      <td>pos</td>\n",
       "      <td>execute</td>\n",
       "      <td>181471</td>\n",
       "      <td>11</td>\n",
       "      <td>/m/0gyf3b3</td>\n",
       "      <td>F</td>\n",
       "    </tr>\n",
       "    <tr>\n",
       "      <th>90876</th>\n",
       "      <td>He recognizes her from the airport and says ``...</td>\n",
       "      <td>He recognizes her from the airport and says ``...</td>\n",
       "      <td>pos</td>\n",
       "      <td>neg</td>\n",
       "      <td>respond</td>\n",
       "      <td>226198</td>\n",
       "      <td>15</td>\n",
       "      <td>/m/0gxw824</td>\n",
       "      <td>F</td>\n",
       "    </tr>\n",
       "    <tr>\n",
       "      <th>32333</th>\n",
       "      <td>He pockets the potion and attempts to flee , b...</td>\n",
       "      <td>He &lt;VERB&gt; the potion and attempts to flee , bu...</td>\n",
       "      <td>equal</td>\n",
       "      <td>pos</td>\n",
       "      <td>pocket</td>\n",
       "      <td>105972</td>\n",
       "      <td>34</td>\n",
       "      <td>/m/0b440_m</td>\n",
       "      <td>F</td>\n",
       "    </tr>\n",
       "    <tr>\n",
       "      <th>127220</th>\n",
       "      <td>After the death of a fellow detective , both J...</td>\n",
       "      <td>After the death of a fellow detective , both J...</td>\n",
       "      <td>pos</td>\n",
       "      <td>pos</td>\n",
       "      <td>make</td>\n",
       "      <td>15790648</td>\n",
       "      <td>4</td>\n",
       "      <td>/m/0h2qm_m</td>\n",
       "      <td>F</td>\n",
       "    </tr>\n",
       "    <tr>\n",
       "      <th>124464</th>\n",
       "      <td>Robert asks that Patty wear a wire to record i...</td>\n",
       "      <td>Robert asks that Patty &lt;VERB&gt; a wire to record...</td>\n",
       "      <td>pos</td>\n",
       "      <td>pos</td>\n",
       "      <td>wear</td>\n",
       "      <td>15080990</td>\n",
       "      <td>20</td>\n",
       "      <td>/m/05sqzx2</td>\n",
       "      <td>F</td>\n",
       "    </tr>\n",
       "    <tr>\n",
       "      <th>...</th>\n",
       "      <td>...</td>\n",
       "      <td>...</td>\n",
       "      <td>...</td>\n",
       "      <td>...</td>\n",
       "      <td>...</td>\n",
       "      <td>...</td>\n",
       "      <td>...</td>\n",
       "      <td>...</td>\n",
       "      <td>...</td>\n",
       "    </tr>\n",
       "    <tr>\n",
       "      <th>44445</th>\n",
       "      <td>The same day , Lorna goes to the station and f...</td>\n",
       "      <td>The same day , Lorna &lt;VERB&gt; to the station and...</td>\n",
       "      <td>equal</td>\n",
       "      <td>equal</td>\n",
       "      <td>go</td>\n",
       "      <td>16469085</td>\n",
       "      <td>15</td>\n",
       "      <td>/m/098jcfz</td>\n",
       "      <td>M</td>\n",
       "    </tr>\n",
       "    <tr>\n",
       "      <th>39274</th>\n",
       "      <td>Elliot is upset that his mother hid this from ...</td>\n",
       "      <td>Elliot is &lt;VERB&gt; that his mother hid this from...</td>\n",
       "      <td>pos</td>\n",
       "      <td>pos</td>\n",
       "      <td>upset</td>\n",
       "      <td>18673551</td>\n",
       "      <td>28</td>\n",
       "      <td>/m/05n8flw</td>\n",
       "      <td>M</td>\n",
       "    </tr>\n",
       "    <tr>\n",
       "      <th>89919</th>\n",
       "      <td>It is revealed Calvin used the money from the ...</td>\n",
       "      <td>It is revealed Calvin &lt;VERB&gt; the money from th...</td>\n",
       "      <td>pos</td>\n",
       "      <td>pos</td>\n",
       "      <td>use</td>\n",
       "      <td>14059068</td>\n",
       "      <td>17</td>\n",
       "      <td>/m/0jvnwp8</td>\n",
       "      <td>M</td>\n",
       "    </tr>\n",
       "    <tr>\n",
       "      <th>60078</th>\n",
       "      <td>Ajay is photographed lurking outside the birth...</td>\n",
       "      <td>Ajay is &lt;VERB&gt; lurking outside the birthday pa...</td>\n",
       "      <td>pos</td>\n",
       "      <td>equal</td>\n",
       "      <td>photograph</td>\n",
       "      <td>2428326</td>\n",
       "      <td>15</td>\n",
       "      <td>/m/0dgb2hq</td>\n",
       "      <td>M</td>\n",
       "    </tr>\n",
       "    <tr>\n",
       "      <th>119568</th>\n",
       "      <td>He insists that Dr. Favor give the recovered m...</td>\n",
       "      <td>He &lt;VERB&gt; that Dr. Favor give the recovered mo...</td>\n",
       "      <td>pos</td>\n",
       "      <td>pos</td>\n",
       "      <td>insist</td>\n",
       "      <td>3834822</td>\n",
       "      <td>8</td>\n",
       "      <td>/m/0gy756p</td>\n",
       "      <td>M</td>\n",
       "    </tr>\n",
       "  </tbody>\n",
       "</table>\n",
       "<p>50000 rows × 9 columns</p>\n",
       "</div>"
      ],
      "text/plain": [
       "                                                      sen  \\\n",
       "85173   When she refuses , Jane , her father and Guilf...   \n",
       "90876   He recognizes her from the airport and says ``...   \n",
       "32333   He pockets the potion and attempts to flee , b...   \n",
       "127220  After the death of a fellow detective , both J...   \n",
       "124464  Robert asks that Patty wear a wire to record i...   \n",
       "...                                                   ...   \n",
       "44445   The same day , Lorna goes to the station and f...   \n",
       "39274   Elliot is upset that his mother hid this from ...   \n",
       "89919   It is revealed Calvin used the money from the ...   \n",
       "60078   Ajay is photographed lurking outside the birth...   \n",
       "119568  He insists that Dr. Favor give the recovered m...   \n",
       "\n",
       "                                                   sendel agency  power  \\\n",
       "85173   When she refuses , Jane , her father and Guilf...    pos    pos   \n",
       "90876   He recognizes her from the airport and says ``...    pos    neg   \n",
       "32333   He <VERB> the potion and attempts to flee , bu...  equal    pos   \n",
       "127220  After the death of a fellow detective , both J...    pos    pos   \n",
       "124464  Robert asks that Patty <VERB> a wire to record...    pos    pos   \n",
       "...                                                   ...    ...    ...   \n",
       "44445   The same day , Lorna <VERB> to the station and...  equal  equal   \n",
       "39274   Elliot is <VERB> that his mother hid this from...    pos    pos   \n",
       "89919   It is revealed Calvin <VERB> the money from th...    pos    pos   \n",
       "60078   Ajay is <VERB> lurking outside the birthday pa...    pos  equal   \n",
       "119568  He <VERB> that Dr. Favor give the recovered mo...    pos    pos   \n",
       "\n",
       "              verb       mid  senid      charid gender  \n",
       "85173      execute    181471     11  /m/0gyf3b3      F  \n",
       "90876      respond    226198     15  /m/0gxw824      F  \n",
       "32333       pocket    105972     34  /m/0b440_m      F  \n",
       "127220        make  15790648      4  /m/0h2qm_m      F  \n",
       "124464        wear  15080990     20  /m/05sqzx2      F  \n",
       "...            ...       ...    ...         ...    ...  \n",
       "44445           go  16469085     15  /m/098jcfz      M  \n",
       "39274        upset  18673551     28  /m/05n8flw      M  \n",
       "89919          use  14059068     17  /m/0jvnwp8      M  \n",
       "60078   photograph   2428326     15  /m/0dgb2hq      M  \n",
       "119568      insist   3834822      8  /m/0gy756p      M  \n",
       "\n",
       "[50000 rows x 9 columns]"
      ]
     },
     "execution_count": 19,
     "metadata": {},
     "output_type": "execute_result"
    }
   ],
   "source": [
    "final_data"
   ]
  },
  {
   "cell_type": "code",
   "execution_count": 26,
   "id": "0a7fd548-aa4e-4dc2-9a08-3b3b212fef65",
   "metadata": {},
   "outputs": [],
   "source": [
    "final_data.to_csv(MS_PATH + 'pa-transformer/movie_sentences_genderbalanced.csv')"
   ]
  },
  {
   "cell_type": "code",
   "execution_count": null,
   "id": "278800cd-dbcd-46f1-8360-84a368ec8f65",
   "metadata": {},
   "outputs": [],
   "source": []
  }
 ],
 "metadata": {
  "kernelspec": {
   "display_name": "Python 3 (ipykernel)",
   "language": "python",
   "name": "python3"
  },
  "language_info": {
   "codemirror_mode": {
    "name": "ipython",
    "version": 3
   },
   "file_extension": ".py",
   "mimetype": "text/x-python",
   "name": "python",
   "nbconvert_exporter": "python",
   "pygments_lexer": "ipython3",
   "version": "3.9.7"
  }
 },
 "nbformat": 4,
 "nbformat_minor": 5
}
