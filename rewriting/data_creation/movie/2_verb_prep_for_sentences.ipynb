{
 "cells": [
  {
   "cell_type": "code",
   "execution_count": 1,
   "id": "4bbed2fe-ae4e-4828-8161-dd4541efd828",
   "metadata": {},
   "outputs": [],
   "source": [
    "import os\n",
    "# nvidia-smi\n",
    "os.environ['CUDA_VISIBLE_DEVICES'] = '0'"
   ]
  },
  {
   "cell_type": "code",
   "execution_count": 2,
   "id": "e0d3e30f-7178-4541-b4e5-2ee343e19917",
   "metadata": {},
   "outputs": [],
   "source": [
    "import pandas as pd\n",
    "import csv\n",
    "import numpy as np\n",
    "from tqdm import tqdm\n",
    "tqdm.pandas()"
   ]
  },
  {
   "cell_type": "code",
   "execution_count": 3,
   "id": "c1d62b30-cee0-4ef7-815b-de3a2e5cd0cd",
   "metadata": {},
   "outputs": [],
   "source": [
    "import warnings\n",
    "warnings.filterwarnings(\"ignore\")"
   ]
  },
  {
   "cell_type": "code",
   "execution_count": 4,
   "id": "ea877ba0-c14c-414e-ace9-e6f0c77ddc54",
   "metadata": {},
   "outputs": [],
   "source": [
    "PREFIX = \"../data/\"\n",
    "PA_PATH = PREFIX + \"sap2017-connotation-frames-power-agency/\"\n",
    "MS_PATH = PREFIX + \"bamman2013-movie-summaries/MovieSummaries/\"\n",
    "NLP_PATH = MS_PATH + 'corenlp_plot_summaries/'"
   ]
  },
  {
   "cell_type": "code",
   "execution_count": 5,
   "id": "104106f7-7e3e-41be-a0a8-cf7ae729cd29",
   "metadata": {},
   "outputs": [],
   "source": [
    "import sys\n",
    "from mov_nlp_utils import *"
   ]
  },
  {
   "cell_type": "markdown",
   "id": "432d2466-dc24-4c44-b32c-ea54d5814474",
   "metadata": {},
   "source": [
    "# read data"
   ]
  },
  {
   "cell_type": "code",
   "execution_count": 6,
   "id": "4cfd2477-6685-4f0e-811d-6f39ca9574d9",
   "metadata": {},
   "outputs": [
    {
     "name": "stdout",
     "output_type": "stream",
     "text": [
      "Wall time: 1min 2s\n"
     ]
    }
   ],
   "source": [
    "%%time\n",
    "df_raw = pd.read_pickle(MS_PATH + 'character_sentences.pkl')"
   ]
  },
  {
   "cell_type": "code",
   "execution_count": 97,
   "id": "66ac8539-dee7-4253-9b94-7a2e3bdc09a1",
   "metadata": {},
   "outputs": [],
   "source": [
    "df = df_raw.explode('sentences') "
   ]
  },
  {
   "cell_type": "code",
   "execution_count": 98,
   "id": "9e084b30-89fc-4dc1-a918-135c53fd6d9d",
   "metadata": {},
   "outputs": [
    {
     "data": {
      "text/plain": [
       "(379831, 42277)"
      ]
     },
     "execution_count": 98,
     "metadata": {},
     "output_type": "execute_result"
    }
   ],
   "source": [
    "len(df), len(df_raw)"
   ]
  },
  {
   "cell_type": "code",
   "execution_count": 99,
   "id": "24ce0509-c1e2-49f0-a5a5-b4d3f5871797",
   "metadata": {},
   "outputs": [],
   "source": [
    "df['mention'] = df.sentences.apply(lambda s: s[1])"
   ]
  },
  {
   "cell_type": "code",
   "execution_count": 100,
   "id": "26bf0bff-2a6f-4532-b8fe-dd1f67e7ea9c",
   "metadata": {},
   "outputs": [],
   "source": [
    "df['sentence'] = df.sentences.apply(lambda s: s[0])"
   ]
  },
  {
   "cell_type": "code",
   "execution_count": 101,
   "id": "e059ba14-2b31-4545-b749-f9bfb0e1021e",
   "metadata": {},
   "outputs": [],
   "source": [
    "df.drop(['st_ids', 'coref', 'sentences'], axis=1, inplace=True)"
   ]
  },
  {
   "cell_type": "code",
   "execution_count": 102,
   "id": "d8616beb-4236-4fa1-833c-ba9560421f7c",
   "metadata": {},
   "outputs": [
    {
     "data": {
      "text/html": [
       "<div>\n",
       "<style scoped>\n",
       "    .dataframe tbody tr th:only-of-type {\n",
       "        vertical-align: middle;\n",
       "    }\n",
       "\n",
       "    .dataframe tbody tr th {\n",
       "        vertical-align: top;\n",
       "    }\n",
       "\n",
       "    .dataframe thead th {\n",
       "        text-align: right;\n",
       "    }\n",
       "</style>\n",
       "<table border=\"1\" class=\"dataframe\">\n",
       "  <thead>\n",
       "    <tr style=\"text-align: right;\">\n",
       "      <th></th>\n",
       "      <th></th>\n",
       "      <th>cid</th>\n",
       "      <th>names</th>\n",
       "      <th>mention</th>\n",
       "      <th>sentence</th>\n",
       "    </tr>\n",
       "  </thead>\n",
       "  <tbody>\n",
       "    <tr>\n",
       "      <th rowspan=\"5\" valign=\"top\">/m/0c01vfc</th>\n",
       "      <th>31186339</th>\n",
       "      <td>/m/0c01vfc</td>\n",
       "      <td>[Katniss]</td>\n",
       "      <td>[(5, 4)]</td>\n",
       "      <td>{'@id': '5', 'tokens': {'token': [OrderedDict(...</td>\n",
       "    </tr>\n",
       "    <tr>\n",
       "      <th>31186339</th>\n",
       "      <td>/m/0c01vfc</td>\n",
       "      <td>[Katniss]</td>\n",
       "      <td>[(6, 11)]</td>\n",
       "      <td>{'@id': '6', 'tokens': {'token': [OrderedDict(...</td>\n",
       "    </tr>\n",
       "    <tr>\n",
       "      <th>31186339</th>\n",
       "      <td>/m/0c01vfc</td>\n",
       "      <td>[Katniss]</td>\n",
       "      <td>[(12, 17)]</td>\n",
       "      <td>{'@id': '12', 'tokens': {'token': [OrderedDict...</td>\n",
       "    </tr>\n",
       "    <tr>\n",
       "      <th>31186339</th>\n",
       "      <td>/m/0c01vfc</td>\n",
       "      <td>[Katniss]</td>\n",
       "      <td>[(14, 4)]</td>\n",
       "      <td>{'@id': '14', 'tokens': {'token': [OrderedDict...</td>\n",
       "    </tr>\n",
       "    <tr>\n",
       "      <th>31186339</th>\n",
       "      <td>/m/0c01vfc</td>\n",
       "      <td>[Katniss]</td>\n",
       "      <td>[(18, 8)]</td>\n",
       "      <td>{'@id': '18', 'tokens': {'token': [OrderedDict...</td>\n",
       "    </tr>\n",
       "  </tbody>\n",
       "</table>\n",
       "</div>"
      ],
      "text/plain": [
       "                            cid      names     mention  \\\n",
       "/m/0c01vfc 31186339  /m/0c01vfc  [Katniss]    [(5, 4)]   \n",
       "           31186339  /m/0c01vfc  [Katniss]   [(6, 11)]   \n",
       "           31186339  /m/0c01vfc  [Katniss]  [(12, 17)]   \n",
       "           31186339  /m/0c01vfc  [Katniss]   [(14, 4)]   \n",
       "           31186339  /m/0c01vfc  [Katniss]   [(18, 8)]   \n",
       "\n",
       "                                                              sentence  \n",
       "/m/0c01vfc 31186339  {'@id': '5', 'tokens': {'token': [OrderedDict(...  \n",
       "           31186339  {'@id': '6', 'tokens': {'token': [OrderedDict(...  \n",
       "           31186339  {'@id': '12', 'tokens': {'token': [OrderedDict...  \n",
       "           31186339  {'@id': '14', 'tokens': {'token': [OrderedDict...  \n",
       "           31186339  {'@id': '18', 'tokens': {'token': [OrderedDict...  "
      ]
     },
     "execution_count": 102,
     "metadata": {},
     "output_type": "execute_result"
    }
   ],
   "source": [
    "df.head()"
   ]
  },
  {
   "cell_type": "code",
   "execution_count": 103,
   "id": "e4e24e1e-0670-40bc-ac82-e5610ebee61e",
   "metadata": {},
   "outputs": [
    {
     "data": {
      "text/html": [
       "<div>\n",
       "<style scoped>\n",
       "    .dataframe tbody tr th:only-of-type {\n",
       "        vertical-align: middle;\n",
       "    }\n",
       "\n",
       "    .dataframe tbody tr th {\n",
       "        vertical-align: top;\n",
       "    }\n",
       "\n",
       "    .dataframe thead th {\n",
       "        text-align: right;\n",
       "    }\n",
       "</style>\n",
       "<table border=\"1\" class=\"dataframe\">\n",
       "  <thead>\n",
       "    <tr style=\"text-align: right;\">\n",
       "      <th></th>\n",
       "      <th></th>\n",
       "      <th>cid</th>\n",
       "      <th>names</th>\n",
       "      <th>mention</th>\n",
       "      <th>sentence</th>\n",
       "    </tr>\n",
       "  </thead>\n",
       "  <tbody>\n",
       "    <tr>\n",
       "      <th rowspan=\"3\" valign=\"top\">/m/0c01vfc</th>\n",
       "      <th>31186339</th>\n",
       "      <td>/m/0c01vfc</td>\n",
       "      <td>[Katniss]</td>\n",
       "      <td>[(8, 3), (8, 4), (8, 5), (8, 6), (8, 7), (8, 8...</td>\n",
       "      <td>{'@id': '8', 'tokens': {'token': [OrderedDict(...</td>\n",
       "    </tr>\n",
       "    <tr>\n",
       "      <th>31186339</th>\n",
       "      <td>/m/0c01vfc</td>\n",
       "      <td>[Katniss]</td>\n",
       "      <td>[(38, 3), (38, 4), (38, 5)]</td>\n",
       "      <td>{'@id': '38', 'tokens': {'token': [OrderedDict...</td>\n",
       "    </tr>\n",
       "    <tr>\n",
       "      <th>31186339</th>\n",
       "      <td>/m/0c01vfc</td>\n",
       "      <td>[Katniss]</td>\n",
       "      <td>[(52, 1), (52, 2), (52, 3), (52, 4), (52, 5), ...</td>\n",
       "      <td>{'@id': '52', 'tokens': {'token': [OrderedDict...</td>\n",
       "    </tr>\n",
       "    <tr>\n",
       "      <th>/m/0c03gdc</th>\n",
       "      <th>31186339</th>\n",
       "      <td>/m/0c03gdc</td>\n",
       "      <td>[Peeta Mellark, Peeta]</td>\n",
       "      <td>[(6, 1), (6, 2)]</td>\n",
       "      <td>{'@id': '6', 'tokens': {'token': [OrderedDict(...</td>\n",
       "    </tr>\n",
       "    <tr>\n",
       "      <th>/m/0dr_hx_</th>\n",
       "      <th>31186339</th>\n",
       "      <td>/m/0dr_hx_</td>\n",
       "      <td>[Primrose Everdeen]</td>\n",
       "      <td>[(4, 7), (4, 8)]</td>\n",
       "      <td>{'@id': '4', 'tokens': {'token': [OrderedDict(...</td>\n",
       "    </tr>\n",
       "    <tr>\n",
       "      <th>...</th>\n",
       "      <th>...</th>\n",
       "      <td>...</td>\n",
       "      <td>...</td>\n",
       "      <td>...</td>\n",
       "      <td>...</td>\n",
       "    </tr>\n",
       "    <tr>\n",
       "      <th>/m/0cwf3cb</th>\n",
       "      <th>17208834</th>\n",
       "      <td>/m/0cwf3cb</td>\n",
       "      <td>[Steven]</td>\n",
       "      <td>[(33, 7), (33, 8), (33, 9), (33, 10)]</td>\n",
       "      <td>{'@id': '33', 'tokens': {'token': [OrderedDict...</td>\n",
       "    </tr>\n",
       "    <tr>\n",
       "      <th rowspan=\"4\" valign=\"top\">/m/0cwf3cw</th>\n",
       "      <th>17208834</th>\n",
       "      <td>/m/0cwf3cw</td>\n",
       "      <td>[Kyle]</td>\n",
       "      <td>[(13, 2), (13, 3)]</td>\n",
       "      <td>{'@id': '13', 'tokens': {'token': [OrderedDict...</td>\n",
       "    </tr>\n",
       "    <tr>\n",
       "      <th>17208834</th>\n",
       "      <td>/m/0cwf3cw</td>\n",
       "      <td>[Kyle]</td>\n",
       "      <td>[(38, 1), (38, 2), (38, 3)]</td>\n",
       "      <td>{'@id': '38', 'tokens': {'token': [OrderedDict...</td>\n",
       "    </tr>\n",
       "    <tr>\n",
       "      <th>17208834</th>\n",
       "      <td>/m/0cwf3cw</td>\n",
       "      <td>[Kyle]</td>\n",
       "      <td>[(44, 5), (44, 6), (44, 7)]</td>\n",
       "      <td>{'@id': '44', 'tokens': {'token': [OrderedDict...</td>\n",
       "    </tr>\n",
       "    <tr>\n",
       "      <th>17208834</th>\n",
       "      <td>/m/0cwf3cw</td>\n",
       "      <td>[Kyle]</td>\n",
       "      <td>[(46, 1), (46, 2), (46, 3)]</td>\n",
       "      <td>{'@id': '46', 'tokens': {'token': [OrderedDict...</td>\n",
       "    </tr>\n",
       "  </tbody>\n",
       "</table>\n",
       "<p>57841 rows × 4 columns</p>\n",
       "</div>"
      ],
      "text/plain": [
       "                            cid                   names  \\\n",
       "/m/0c01vfc 31186339  /m/0c01vfc               [Katniss]   \n",
       "           31186339  /m/0c01vfc               [Katniss]   \n",
       "           31186339  /m/0c01vfc               [Katniss]   \n",
       "/m/0c03gdc 31186339  /m/0c03gdc  [Peeta Mellark, Peeta]   \n",
       "/m/0dr_hx_ 31186339  /m/0dr_hx_     [Primrose Everdeen]   \n",
       "...                         ...                     ...   \n",
       "/m/0cwf3cb 17208834  /m/0cwf3cb                [Steven]   \n",
       "/m/0cwf3cw 17208834  /m/0cwf3cw                  [Kyle]   \n",
       "           17208834  /m/0cwf3cw                  [Kyle]   \n",
       "           17208834  /m/0cwf3cw                  [Kyle]   \n",
       "           17208834  /m/0cwf3cw                  [Kyle]   \n",
       "\n",
       "                                                               mention  \\\n",
       "/m/0c01vfc 31186339  [(8, 3), (8, 4), (8, 5), (8, 6), (8, 7), (8, 8...   \n",
       "           31186339                        [(38, 3), (38, 4), (38, 5)]   \n",
       "           31186339  [(52, 1), (52, 2), (52, 3), (52, 4), (52, 5), ...   \n",
       "/m/0c03gdc 31186339                                   [(6, 1), (6, 2)]   \n",
       "/m/0dr_hx_ 31186339                                   [(4, 7), (4, 8)]   \n",
       "...                                                                ...   \n",
       "/m/0cwf3cb 17208834              [(33, 7), (33, 8), (33, 9), (33, 10)]   \n",
       "/m/0cwf3cw 17208834                                 [(13, 2), (13, 3)]   \n",
       "           17208834                        [(38, 1), (38, 2), (38, 3)]   \n",
       "           17208834                        [(44, 5), (44, 6), (44, 7)]   \n",
       "           17208834                        [(46, 1), (46, 2), (46, 3)]   \n",
       "\n",
       "                                                              sentence  \n",
       "/m/0c01vfc 31186339  {'@id': '8', 'tokens': {'token': [OrderedDict(...  \n",
       "           31186339  {'@id': '38', 'tokens': {'token': [OrderedDict...  \n",
       "           31186339  {'@id': '52', 'tokens': {'token': [OrderedDict...  \n",
       "/m/0c03gdc 31186339  {'@id': '6', 'tokens': {'token': [OrderedDict(...  \n",
       "/m/0dr_hx_ 31186339  {'@id': '4', 'tokens': {'token': [OrderedDict(...  \n",
       "...                                                                ...  \n",
       "/m/0cwf3cb 17208834  {'@id': '33', 'tokens': {'token': [OrderedDict...  \n",
       "/m/0cwf3cw 17208834  {'@id': '13', 'tokens': {'token': [OrderedDict...  \n",
       "           17208834  {'@id': '38', 'tokens': {'token': [OrderedDict...  \n",
       "           17208834  {'@id': '44', 'tokens': {'token': [OrderedDict...  \n",
       "           17208834  {'@id': '46', 'tokens': {'token': [OrderedDict...  \n",
       "\n",
       "[57841 rows x 4 columns]"
      ]
     },
     "execution_count": 103,
     "metadata": {},
     "output_type": "execute_result"
    }
   ],
   "source": [
    "df[df.mention.apply(lambda x: True if len(x) > 1 else False)]"
   ]
  },
  {
   "cell_type": "code",
   "execution_count": 104,
   "id": "a4d7c7bf-3c31-4084-843c-fac9df7224bd",
   "metadata": {},
   "outputs": [],
   "source": [
    "def get_verb_for_character(row):     \n",
    "    verbs = []\n",
    "    result = []\n",
    "    \n",
    "    \n",
    "    if isinstance(row.sentence, dict) and row.sentence['collapsed-dependencies']:\n",
    "        # verbs\n",
    "        verbs = [get_token_for_sentence(row.sentence, t['governor']['@idx']) for t in row.sentence['collapsed-dependencies']['dep']\n",
    "                      if isinstance(t, dict) and t['@type'] in ['nsubj']\n",
    "                      if 'VB' in get_token_for_sentence(row.sentence, t['governor']['@idx'])['POS']\n",
    "                      and (row.sentence['@id'], t['dependent']['@idx']) in row.mention]\n",
    "    \n",
    "        # prepositions\n",
    "        for verb in verbs:\n",
    "            prep = [get_token_for_sentence(row.sentence, t['dependent']['@idx']) for t in row.sentence['collapsed-dependencies']['dep']\n",
    "                      if isinstance(t, dict) and t['@type'] == 'prep'\n",
    "                      if get_token_for_sentence(row.sentence, t['dependent']['@idx'])['POS'] in ['IN', 'TO']\n",
    "                      and get_token_for_sentence(row.sentence, t['governor']['@idx']) == verb]\n",
    "            \n",
    "            if len(prep) > 0:\n",
    "                result.append((verb, prep))\n",
    "            else:\n",
    "                result.append((verb)) \n",
    "                            \n",
    "    return result"
   ]
  },
  {
   "cell_type": "code",
   "execution_count": 105,
   "id": "82382dba-535c-4d6d-b847-a40d29746d4f",
   "metadata": {},
   "outputs": [
    {
     "name": "stderr",
     "output_type": "stream",
     "text": [
      "100%|███████████████████████████████████████████████████████████████████████| 379831/379831 [00:20<00:00, 18556.74it/s]\n"
     ]
    }
   ],
   "source": [
    "df['verbs'] = df.progress_apply(get_verb_for_character, axis=1)"
   ]
  },
  {
   "cell_type": "code",
   "execution_count": 106,
   "id": "9693c3d1-e96c-45e4-abee-a663cf677ed4",
   "metadata": {},
   "outputs": [
    {
     "data": {
      "text/plain": [
       "0    199463\n",
       "1    179381\n",
       "2       817\n",
       "3       135\n",
       "4        26\n",
       "5         8\n",
       "6         1\n",
       "Name: verbs, dtype: int64"
      ]
     },
     "execution_count": 106,
     "metadata": {},
     "output_type": "execute_result"
    }
   ],
   "source": [
    "df.verbs.apply(len).value_counts()"
   ]
  },
  {
   "cell_type": "code",
   "execution_count": 107,
   "id": "61c2f629-1120-4ad6-b704-6319c463eab4",
   "metadata": {},
   "outputs": [],
   "source": [
    "df = df[df.verbs.apply(len) > 0]"
   ]
  },
  {
   "cell_type": "code",
   "execution_count": 108,
   "id": "231d96f4-18a0-4efd-886a-710da611cc1a",
   "metadata": {},
   "outputs": [
    {
     "data": {
      "text/plain": [
       "1    179381\n",
       "2       817\n",
       "3       135\n",
       "4        26\n",
       "5         8\n",
       "6         1\n",
       "Name: verbs, dtype: int64"
      ]
     },
     "execution_count": 108,
     "metadata": {},
     "output_type": "execute_result"
    }
   ],
   "source": [
    "df.verbs.apply(len).value_counts()"
   ]
  },
  {
   "cell_type": "code",
   "execution_count": 111,
   "id": "6edaf971-7b8a-4636-9840-22039bef2b09",
   "metadata": {},
   "outputs": [
    {
     "data": {
      "text/plain": [
       "/m/0c01vfc  31186339    [{'@id': '19', 'word': 'survives', 'lemma': 's...\n",
       "            31186339    [{'@id': '10', 'word': 'warned', 'lemma': 'war...\n",
       "            31186339    [{'@id': '2', 'word': 'has', 'lemma': 'have', ...\n",
       "            31186339    [{'@id': '3', 'word': 'runs', 'lemma': 'run', ...\n",
       "            31186339    [{'@id': '2', 'word': 'shoots', 'lemma': 'shoo...\n",
       "                                              ...                        \n",
       "/m/0cwf3cw  17208834    [{'@id': '2', 'word': 'calls', 'lemma': 'call'...\n",
       "            17208834    [{'@id': '6', 'word': 'forced', 'lemma': 'forc...\n",
       "            17208834    [{'@id': '10', 'word': 'looking', 'lemma': 'lo...\n",
       "            17208834    [{'@id': '5', 'word': 'forced', 'lemma': 'forc...\n",
       "            17208834    [{'@id': '16', 'word': 'get', 'lemma': 'get', ...\n",
       "Name: verbs, Length: 180368, dtype: object"
      ]
     },
     "execution_count": 111,
     "metadata": {},
     "output_type": "execute_result"
    }
   ],
   "source": [
    "df.verbs"
   ]
  },
  {
   "cell_type": "code",
   "execution_count": 112,
   "id": "62f69e60-869a-4a26-9b0b-43b8d01a21d8",
   "metadata": {},
   "outputs": [],
   "source": [
    "df.to_pickle(MS_PATH + 'character_sentences_verbs.pkl')"
   ]
  }
 ],
 "metadata": {
  "kernelspec": {
   "display_name": "Python 3 (ipykernel)",
   "language": "python",
   "name": "python3"
  },
  "language_info": {
   "codemirror_mode": {
    "name": "ipython",
    "version": 3
   },
   "file_extension": ".py",
   "mimetype": "text/x-python",
   "name": "python",
   "nbconvert_exporter": "python",
   "pygments_lexer": "ipython3",
   "version": "3.9.7"
  }
 },
 "nbformat": 4,
 "nbformat_minor": 5
}
