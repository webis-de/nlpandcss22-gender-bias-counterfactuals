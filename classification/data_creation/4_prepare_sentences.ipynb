{
 "cells": [
  {
   "cell_type": "code",
   "execution_count": 1,
   "id": "usual-meter",
   "metadata": {},
   "outputs": [],
   "source": [
    "import os\n",
    "# nvidia-smi\n",
    "os.environ['CUDA_VISIBLE_DEVICES'] = '4'"
   ]
  },
  {
   "cell_type": "code",
   "execution_count": 2,
   "id": "executive-travel",
   "metadata": {},
   "outputs": [],
   "source": [
    "import os\n",
    "import json\n",
    "import random\n",
    "import pandas as pd\n",
    "from tqdm import tqdm\n",
    "tqdm.pandas()\n",
    "from flair.tokenization import SegtokSentenceSplitter\n",
    "from flair.data import Sentence\n",
    "from flair.models import SequenceTagger\n",
    "from nltk.stem import WordNetLemmatizer\n",
    "from flair.embeddings import FlairEmbeddings, StackedEmbeddings, ELMoEmbeddings\n",
    "import warnings\n",
    "warnings.filterwarnings('ignore')"
   ]
  },
  {
   "cell_type": "code",
   "execution_count": 3,
   "id": "accomplished-belly",
   "metadata": {},
   "outputs": [],
   "source": [
    "import logging\n",
    "logger = logging.getLogger('flair')\n",
    "logger.setLevel(level=logging.ERROR)\n",
    "fh = logging.StreamHandler()\n",
    "logger.addHandler(fh)"
   ]
  },
  {
   "cell_type": "code",
   "execution_count": 4,
   "id": "swedish-grill",
   "metadata": {},
   "outputs": [],
   "source": [
    "PREFIX = \"../data/\"\n",
    "PA_PATH = PREFIX + \"sap2017-connotation-frames-power-agency/\"\n",
    "J_PATH = PREFIX + \"pungas2017-plaintext-jokes/\"\n",
    "W_PATH = PREFIX + \"wang2018-wiki-dataset/\"\n",
    "S_PATH = PREFIX + \"kiesel2017-webis-simple-sentences-17/\""
   ]
  },
  {
   "cell_type": "markdown",
   "id": "considered-interest",
   "metadata": {},
   "source": [
    "# read power_agency"
   ]
  },
  {
   "cell_type": "code",
   "execution_count": 5,
   "id": "superb-magazine",
   "metadata": {},
   "outputs": [],
   "source": [
    "wikisents = pd.read_pickle(PA_PATH + 'power_agency_wikisents.pkl')"
   ]
  },
  {
   "cell_type": "code",
   "execution_count": 6,
   "id": "behavioral-carnival",
   "metadata": {},
   "outputs": [],
   "source": [
    "jokesents = pd.read_pickle(PA_PATH + 'power_agency_jokesents.pkl')"
   ]
  },
  {
   "cell_type": "code",
   "execution_count": 7,
   "id": "synthetic-spelling",
   "metadata": {},
   "outputs": [],
   "source": [
    "webissents = pd.read_pickle(PA_PATH + 'power_agency_webissents.pkl')"
   ]
  },
  {
   "cell_type": "code",
   "execution_count": 8,
   "id": "damaged-florist",
   "metadata": {},
   "outputs": [],
   "source": [
    "sents = jokesents.merge(wikisents)\n",
    "sents = sents.merge(webissents)\n",
    "del wikisents, jokesents, webissents"
   ]
  },
  {
   "cell_type": "code",
   "execution_count": 9,
   "id": "determined-russell",
   "metadata": {},
   "outputs": [],
   "source": [
    "sents['sents'] = sents['jsents'] + sents['wsents']\n",
    "sents['sents'] = sents['sents'] + sents['ssents']"
   ]
  },
  {
   "cell_type": "code",
   "execution_count": 10,
   "id": "prostate-raise",
   "metadata": {},
   "outputs": [
    {
     "data": {
      "text/plain": [
       "(247671, 369790, 527953, 1145414)"
      ]
     },
     "execution_count": 10,
     "metadata": {},
     "output_type": "execute_result"
    }
   ],
   "source": [
    "sum(sents.jsents.apply(len)), sum(sents.wsents.apply(len)), sum(sents.ssents.apply(len)), (sum(sents.jsents.apply(len)) + sum(sents.wsents.apply(len)) + sum(sents.ssents.apply(len)))"
   ]
  },
  {
   "cell_type": "code",
   "execution_count": 11,
   "id": "trained-shanghai",
   "metadata": {},
   "outputs": [],
   "source": [
    "sents = sents.drop(['jsents','wsents','ssents'],axis=1)"
   ]
  },
  {
   "cell_type": "code",
   "execution_count": 12,
   "id": "tropical-fields",
   "metadata": {},
   "outputs": [
    {
     "data": {
      "text/plain": [
       "1145414"
      ]
     },
     "execution_count": 12,
     "metadata": {},
     "output_type": "execute_result"
    }
   ],
   "source": [
    "sum(sents.sents.apply(len))"
   ]
  },
  {
   "cell_type": "code",
   "execution_count": 13,
   "id": "invisible-alarm",
   "metadata": {},
   "outputs": [
    {
     "data": {
      "text/plain": [
       "2144"
      ]
     },
     "execution_count": 13,
     "metadata": {},
     "output_type": "execute_result"
    }
   ],
   "source": [
    "len(sents)"
   ]
  },
  {
   "cell_type": "code",
   "execution_count": 14,
   "id": "coupled-separate",
   "metadata": {},
   "outputs": [
    {
     "data": {
      "text/plain": [
       "count    2144.000000\n",
       "mean      534.241604\n",
       "std       211.780758\n",
       "min        17.000000\n",
       "25%       330.000000\n",
       "50%       559.000000\n",
       "75%       700.000000\n",
       "max       850.000000\n",
       "Name: sents, dtype: float64"
      ]
     },
     "execution_count": 14,
     "metadata": {},
     "output_type": "execute_result"
    }
   ],
   "source": [
    "sents.sents.apply(len).describe()"
   ]
  },
  {
   "cell_type": "markdown",
   "id": "friendly-completion",
   "metadata": {},
   "source": [
    "# filter long sentences"
   ]
  },
  {
   "cell_type": "code",
   "execution_count": 15,
   "id": "fancy-plastic",
   "metadata": {},
   "outputs": [],
   "source": [
    "s = sents.explode('sents')"
   ]
  },
  {
   "cell_type": "code",
   "execution_count": 16,
   "id": "impressive-effort",
   "metadata": {},
   "outputs": [
    {
     "data": {
      "text/html": [
       "<div>\n",
       "<style scoped>\n",
       "    .dataframe tbody tr th:only-of-type {\n",
       "        vertical-align: middle;\n",
       "    }\n",
       "\n",
       "    .dataframe tbody tr th {\n",
       "        vertical-align: top;\n",
       "    }\n",
       "\n",
       "    .dataframe thead th {\n",
       "        text-align: right;\n",
       "    }\n",
       "</style>\n",
       "<table border=\"1\" class=\"dataframe\">\n",
       "  <thead>\n",
       "    <tr style=\"text-align: right;\">\n",
       "      <th></th>\n",
       "      <th>verb</th>\n",
       "      <th>agency</th>\n",
       "      <th>power</th>\n",
       "      <th>verb_prep</th>\n",
       "      <th>prep</th>\n",
       "      <th>lemma</th>\n",
       "      <th>sents</th>\n",
       "    </tr>\n",
       "  </thead>\n",
       "  <tbody>\n",
       "    <tr>\n",
       "      <th>count</th>\n",
       "      <td>1145414</td>\n",
       "      <td>1144363</td>\n",
       "      <td>964919</td>\n",
       "      <td>1145414</td>\n",
       "      <td>26709</td>\n",
       "      <td>1145414</td>\n",
       "      <td>1145414</td>\n",
       "    </tr>\n",
       "    <tr>\n",
       "      <th>unique</th>\n",
       "      <td>2107</td>\n",
       "      <td>3</td>\n",
       "      <td>3</td>\n",
       "      <td>2144</td>\n",
       "      <td>14</td>\n",
       "      <td>2107</td>\n",
       "      <td>943436</td>\n",
       "    </tr>\n",
       "    <tr>\n",
       "      <th>top</th>\n",
       "      <td>speaks</td>\n",
       "      <td>agency_pos</td>\n",
       "      <td>power_agent</td>\n",
       "      <td>runs</td>\n",
       "      <td>to</td>\n",
       "      <td>talk</td>\n",
       "      <td>(Token: 1 Caress, Token: 2 ,, Token: 3 praise,...</td>\n",
       "    </tr>\n",
       "    <tr>\n",
       "      <th>freq</th>\n",
       "      <td>1700</td>\n",
       "      <td>898400</td>\n",
       "      <td>660097</td>\n",
       "      <td>850</td>\n",
       "      <td>9837</td>\n",
       "      <td>1700</td>\n",
       "      <td>42</td>\n",
       "    </tr>\n",
       "  </tbody>\n",
       "</table>\n",
       "</div>"
      ],
      "text/plain": [
       "           verb      agency        power verb_prep   prep    lemma  \\\n",
       "count   1145414     1144363       964919   1145414  26709  1145414   \n",
       "unique     2107           3            3      2144     14     2107   \n",
       "top      speaks  agency_pos  power_agent      runs     to     talk   \n",
       "freq       1700      898400       660097       850   9837     1700   \n",
       "\n",
       "                                                    sents  \n",
       "count                                             1145414  \n",
       "unique                                             943436  \n",
       "top     (Token: 1 Caress, Token: 2 ,, Token: 3 praise,...  \n",
       "freq                                                   42  "
      ]
     },
     "execution_count": 16,
     "metadata": {},
     "output_type": "execute_result"
    }
   ],
   "source": [
    "s.describe()"
   ]
  },
  {
   "cell_type": "code",
   "execution_count": 17,
   "id": "straight-marine",
   "metadata": {},
   "outputs": [
    {
     "data": {
      "text/plain": [
       "count    1.145414e+06\n",
       "mean     2.377096e+01\n",
       "std      1.576609e+01\n",
       "min      1.000000e+00\n",
       "25%      1.400000e+01\n",
       "50%      2.000000e+01\n",
       "75%      2.900000e+01\n",
       "max      9.970000e+02\n",
       "Name: sents, dtype: float64"
      ]
     },
     "execution_count": 17,
     "metadata": {},
     "output_type": "execute_result"
    }
   ],
   "source": [
    "s.sents.apply(len).describe()"
   ]
  },
  {
   "cell_type": "code",
   "execution_count": 18,
   "id": "numeric-importance",
   "metadata": {},
   "outputs": [],
   "source": [
    "s = s[s.sents.apply(len) <= 75]"
   ]
  },
  {
   "cell_type": "code",
   "execution_count": 19,
   "id": "enabling-oracle",
   "metadata": {},
   "outputs": [
    {
     "data": {
      "text/plain": [
       "count    1.133706e+06\n",
       "mean     2.292405e+01\n",
       "std      1.241553e+01\n",
       "min      1.000000e+00\n",
       "25%      1.400000e+01\n",
       "50%      2.000000e+01\n",
       "75%      2.900000e+01\n",
       "max      7.500000e+01\n",
       "Name: sents, dtype: float64"
      ]
     },
     "execution_count": 19,
     "metadata": {},
     "output_type": "execute_result"
    }
   ],
   "source": [
    "s.sents.apply(len).describe()"
   ]
  },
  {
   "cell_type": "code",
   "execution_count": 24,
   "id": "arctic-iraqi",
   "metadata": {},
   "outputs": [],
   "source": [
    "del s"
   ]
  },
  {
   "cell_type": "code",
   "execution_count": 20,
   "id": "organized-episode",
   "metadata": {},
   "outputs": [
    {
     "data": {
      "text/plain": [
       "1145414"
      ]
     },
     "execution_count": 20,
     "metadata": {},
     "output_type": "execute_result"
    }
   ],
   "source": [
    "sum(sents.sents.apply(len))"
   ]
  },
  {
   "cell_type": "code",
   "execution_count": 21,
   "id": "charitable-miniature",
   "metadata": {},
   "outputs": [],
   "source": [
    "def filter_long_sents(row):\n",
    "    return [s for s in row if len(s) <= 75]        "
   ]
  },
  {
   "cell_type": "code",
   "execution_count": 22,
   "id": "automotive-medicare",
   "metadata": {},
   "outputs": [
    {
     "name": "stderr",
     "output_type": "stream",
     "text": [
      "100%|██████████| 2144/2144 [00:01<00:00, 1427.48it/s]\n"
     ]
    }
   ],
   "source": [
    "sents['sents'] = sents.sents.progress_apply(filter_long_sents)"
   ]
  },
  {
   "cell_type": "code",
   "execution_count": 23,
   "id": "adopted-calibration",
   "metadata": {},
   "outputs": [
    {
     "data": {
      "text/plain": [
       "1133706"
      ]
     },
     "execution_count": 23,
     "metadata": {},
     "output_type": "execute_result"
    }
   ],
   "source": [
    "sum(sents.sents.apply(len))"
   ]
  },
  {
   "cell_type": "markdown",
   "id": "breathing-variation",
   "metadata": {},
   "source": [
    "# balance dataset"
   ]
  },
  {
   "cell_type": "code",
   "execution_count": 25,
   "id": "similar-pride",
   "metadata": {},
   "outputs": [
    {
     "data": {
      "text/plain": [
       "count    2144.000000\n",
       "mean      528.780784\n",
       "std       208.547094\n",
       "min        17.000000\n",
       "25%       327.000000\n",
       "50%       550.000000\n",
       "75%       692.000000\n",
       "max       850.000000\n",
       "Name: sents, dtype: float64"
      ]
     },
     "execution_count": 25,
     "metadata": {},
     "output_type": "execute_result"
    }
   ],
   "source": [
    "sents.sents.apply(len).describe()"
   ]
  },
  {
   "cell_type": "code",
   "execution_count": 26,
   "id": "arctic-reservation",
   "metadata": {
    "tags": []
   },
   "outputs": [
    {
     "name": "stdout",
     "output_type": "stream",
     "text": [
      "0 : 0 2144\n",
      "5 : 0 2144\n",
      "10 : 0 2144\n",
      "15 : 0 2144\n",
      "20 : 2 2142\n",
      "25 : 3 2141\n",
      "30 : 3 2141\n",
      "35 : 5 2139\n",
      "40 : 5 2139\n",
      "45 : 6 2138\n",
      "50 : 6 2138\n",
      "55 : 7 2137\n",
      "60 : 7 2137\n",
      "65 : 8 2136\n",
      "70 : 11 2133\n",
      "75 : 13 2131\n",
      "80 : 14 2130\n",
      "85 : 15 2129\n",
      "90 : 15 2129\n",
      "95 : 16 2128\n",
      "100 : 17 2127\n",
      "105 : 18 2126\n",
      "110 : 20 2124\n",
      "115 : 21 2123\n",
      "120 : 22 2122\n",
      "125 : 26 2118\n",
      "130 : 26 2118\n",
      "135 : 29 2115\n",
      "140 : 29 2115\n",
      "145 : 29 2115\n",
      "150 : 30 2114\n",
      "155 : 31 2113\n",
      "160 : 34 2110\n",
      "165 : 37 2107\n",
      "170 : 38 2106\n",
      "175 : 40 2104\n",
      "180 : 42 2102\n",
      "185 : 43 2101\n",
      "190 : 43 2101\n",
      "195 : 45 2099\n",
      "200 : 48 2096\n",
      "205 : 49 2095\n",
      "210 : 52 2092\n",
      "215 : 53 2091\n",
      "220 : 55 2089\n",
      "225 : 59 2085\n",
      "230 : 60 2084\n",
      "235 : 64 2080\n",
      "240 : 65 2079\n",
      "245 : 66 2078\n",
      "250 : 67 2077\n"
     ]
    }
   ],
   "source": [
    "for i in range(0, 251, 5):\n",
    "    print(i, ':', len(sents[sents.sents.apply(len) < i]), len(sents[sents.sents.apply(len) >= i]))"
   ]
  },
  {
   "cell_type": "code",
   "execution_count": 31,
   "id": "developing-conditioning",
   "metadata": {},
   "outputs": [
    {
     "data": {
      "text/plain": [
       "0.022388059701492536"
      ]
     },
     "execution_count": 31,
     "metadata": {},
     "output_type": "execute_result"
    }
   ],
   "source": [
    "48 / 2144"
   ]
  },
  {
   "cell_type": "code",
   "execution_count": 32,
   "id": "smart-alert",
   "metadata": {},
   "outputs": [],
   "source": [
    "n = 200"
   ]
  },
  {
   "cell_type": "code",
   "execution_count": 33,
   "id": "alien-bulgarian",
   "metadata": {},
   "outputs": [],
   "source": [
    "# filter verbs with too few sentences\n",
    "sents = sents[sents.sents.apply(len) >= n]"
   ]
  },
  {
   "cell_type": "code",
   "execution_count": 34,
   "id": "cordless-queens",
   "metadata": {},
   "outputs": [],
   "source": [
    "# remove sentences that are too many\n",
    "def filter_too_many(slist):\n",
    "    return random.sample(slist, n)"
   ]
  },
  {
   "cell_type": "code",
   "execution_count": 35,
   "id": "alpha-quilt",
   "metadata": {},
   "outputs": [
    {
     "name": "stderr",
     "output_type": "stream",
     "text": [
      "100%|██████████| 2096/2096 [00:00<00:00, 4466.63it/s]\n"
     ]
    }
   ],
   "source": [
    "sents['sents'] = sents.sents.progress_apply(filter_too_many)"
   ]
  },
  {
   "cell_type": "code",
   "execution_count": 39,
   "id": "thorough-ozone",
   "metadata": {},
   "outputs": [],
   "source": [
    "sents = sents.reset_index()"
   ]
  },
  {
   "cell_type": "code",
   "execution_count": 40,
   "id": "serious-puzzle",
   "metadata": {},
   "outputs": [
    {
     "data": {
      "text/plain": [
       "count    2096.0\n",
       "mean      200.0\n",
       "std         0.0\n",
       "min       200.0\n",
       "25%       200.0\n",
       "50%       200.0\n",
       "75%       200.0\n",
       "max       200.0\n",
       "Name: sents, dtype: float64"
      ]
     },
     "execution_count": 40,
     "metadata": {},
     "output_type": "execute_result"
    }
   ],
   "source": [
    "sents.sents.apply(len).describe()"
   ]
  },
  {
   "cell_type": "code",
   "execution_count": 41,
   "id": "pacific-magnet",
   "metadata": {},
   "outputs": [],
   "source": [
    "sents.to_pickle(PA_PATH + 'power_agency_sents.pkl')"
   ]
  },
  {
   "cell_type": "code",
   "execution_count": null,
   "id": "exempt-catering",
   "metadata": {},
   "outputs": [],
   "source": []
  }
 ],
 "metadata": {
  "kernelspec": {
   "display_name": "Python 3 (ipykernel)",
   "language": "python",
   "name": "python3"
  },
  "language_info": {
   "codemirror_mode": {
    "name": "ipython",
    "version": 3
   },
   "file_extension": ".py",
   "mimetype": "text/x-python",
   "name": "python",
   "nbconvert_exporter": "python",
   "pygments_lexer": "ipython3",
   "version": "3.9.7"
  }
 },
 "nbformat": 4,
 "nbformat_minor": 5
}
