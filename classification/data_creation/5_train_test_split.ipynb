{
 "cells": [
  {
   "cell_type": "code",
   "execution_count": 1,
   "id": "available-custom",
   "metadata": {},
   "outputs": [],
   "source": [
    "import os\n",
    "# nvidia-smi\n",
    "os.environ['CUDA_VISIBLE_DEVICES'] = '2'"
   ]
  },
  {
   "cell_type": "code",
   "execution_count": 2,
   "id": "unable-welding",
   "metadata": {},
   "outputs": [],
   "source": [
    "import pandas as pd\n",
    "from tqdm import tqdm\n",
    "tqdm.pandas()\n",
    "import pickle"
   ]
  },
  {
   "cell_type": "code",
   "execution_count": 3,
   "id": "convinced-cornwall",
   "metadata": {},
   "outputs": [],
   "source": [
    "PREFIX = \"../data/\"\n",
    "PA_PATH = PREFIX + \"sap2017-connotation-frames-power-agency/\""
   ]
  },
  {
   "cell_type": "markdown",
   "id": "authentic-public",
   "metadata": {},
   "source": [
    "# read data"
   ]
  },
  {
   "cell_type": "code",
   "execution_count": 4,
   "id": "composite-mambo",
   "metadata": {},
   "outputs": [],
   "source": [
    "pa = pd.read_pickle(PA_PATH + 'power_agency_sents.pkl')"
   ]
  },
  {
   "cell_type": "code",
   "execution_count": 5,
   "id": "tight-liabilities",
   "metadata": {},
   "outputs": [],
   "source": [
    "pa = pa.drop('index',axis=1)"
   ]
  },
  {
   "cell_type": "code",
   "execution_count": 6,
   "id": "mounted-munich",
   "metadata": {},
   "outputs": [
    {
     "data": {
      "text/html": [
       "<div>\n",
       "<style scoped>\n",
       "    .dataframe tbody tr th:only-of-type {\n",
       "        vertical-align: middle;\n",
       "    }\n",
       "\n",
       "    .dataframe tbody tr th {\n",
       "        vertical-align: top;\n",
       "    }\n",
       "\n",
       "    .dataframe thead th {\n",
       "        text-align: right;\n",
       "    }\n",
       "</style>\n",
       "<table border=\"1\" class=\"dataframe\">\n",
       "  <thead>\n",
       "    <tr style=\"text-align: right;\">\n",
       "      <th></th>\n",
       "      <th>verb</th>\n",
       "      <th>agency</th>\n",
       "      <th>power</th>\n",
       "      <th>verb_prep</th>\n",
       "      <th>prep</th>\n",
       "      <th>lemma</th>\n",
       "      <th>sents</th>\n",
       "    </tr>\n",
       "  </thead>\n",
       "  <tbody>\n",
       "    <tr>\n",
       "      <th>0</th>\n",
       "      <td>abandons</td>\n",
       "      <td>agency_pos</td>\n",
       "      <td>power_agent</td>\n",
       "      <td>abandons</td>\n",
       "      <td>NaN</td>\n",
       "      <td>abandon</td>\n",
       "      <td>[(Token: 1 Most, Token: 2 of, Token: 3 my, Tok...</td>\n",
       "    </tr>\n",
       "    <tr>\n",
       "      <th>1</th>\n",
       "      <td>abolishes</td>\n",
       "      <td>agency_pos</td>\n",
       "      <td>power_agent</td>\n",
       "      <td>abolishes</td>\n",
       "      <td>NaN</td>\n",
       "      <td>abolish</td>\n",
       "      <td>[(Token: 1 delivering, Token: 2 a, Token: 3 st...</td>\n",
       "    </tr>\n",
       "    <tr>\n",
       "      <th>2</th>\n",
       "      <td>absorbs</td>\n",
       "      <td>agency_pos</td>\n",
       "      <td>power_agent</td>\n",
       "      <td>absorbs</td>\n",
       "      <td>NaN</td>\n",
       "      <td>absorb</td>\n",
       "      <td>[(Token: 1 Lexx, Token: 2 was, Token: 3 co-pro...</td>\n",
       "    </tr>\n",
       "    <tr>\n",
       "      <th>3</th>\n",
       "      <td>abuses</td>\n",
       "      <td>agency_pos</td>\n",
       "      <td>power_agent</td>\n",
       "      <td>abuses</td>\n",
       "      <td>NaN</td>\n",
       "      <td>abuse</td>\n",
       "      <td>[(Token: 1 potanin, Token: 2 ', Token: 3 s, To...</td>\n",
       "    </tr>\n",
       "    <tr>\n",
       "      <th>4</th>\n",
       "      <td>accelerates</td>\n",
       "      <td>agency_pos</td>\n",
       "      <td>power_agent</td>\n",
       "      <td>accelerates</td>\n",
       "      <td>NaN</td>\n",
       "      <td>accelerate</td>\n",
       "      <td>[(Token: 1 You, Token: 2 ca, Token: 3 n't, Tok...</td>\n",
       "    </tr>\n",
       "  </tbody>\n",
       "</table>\n",
       "</div>"
      ],
      "text/plain": [
       "          verb      agency        power    verb_prep prep       lemma  \\\n",
       "0     abandons  agency_pos  power_agent     abandons  NaN     abandon   \n",
       "1    abolishes  agency_pos  power_agent    abolishes  NaN     abolish   \n",
       "2      absorbs  agency_pos  power_agent      absorbs  NaN      absorb   \n",
       "3       abuses  agency_pos  power_agent       abuses  NaN       abuse   \n",
       "4  accelerates  agency_pos  power_agent  accelerates  NaN  accelerate   \n",
       "\n",
       "                                               sents  \n",
       "0  [(Token: 1 Most, Token: 2 of, Token: 3 my, Tok...  \n",
       "1  [(Token: 1 delivering, Token: 2 a, Token: 3 st...  \n",
       "2  [(Token: 1 Lexx, Token: 2 was, Token: 3 co-pro...  \n",
       "3  [(Token: 1 potanin, Token: 2 ', Token: 3 s, To...  \n",
       "4  [(Token: 1 You, Token: 2 ca, Token: 3 n't, Tok...  "
      ]
     },
     "execution_count": 6,
     "metadata": {},
     "output_type": "execute_result"
    }
   ],
   "source": [
    "pa.head()"
   ]
  },
  {
   "cell_type": "code",
   "execution_count": 7,
   "id": "classified-intensity",
   "metadata": {},
   "outputs": [
    {
     "data": {
      "text/plain": [
       "False"
      ]
     },
     "execution_count": 7,
     "metadata": {},
     "output_type": "execute_result"
    }
   ],
   "source": [
    "pa.verb.is_unique"
   ]
  },
  {
   "cell_type": "code",
   "execution_count": 8,
   "id": "orange-cable",
   "metadata": {},
   "outputs": [
    {
     "data": {
      "text/plain": [
       "True"
      ]
     },
     "execution_count": 8,
     "metadata": {},
     "output_type": "execute_result"
    }
   ],
   "source": [
    "pa.verb_prep.is_unique"
   ]
  },
  {
   "cell_type": "code",
   "execution_count": 9,
   "id": "accomplished-essence",
   "metadata": {},
   "outputs": [
    {
     "data": {
      "text/plain": [
       "2096"
      ]
     },
     "execution_count": 9,
     "metadata": {},
     "output_type": "execute_result"
    }
   ],
   "source": [
    "len(pa)"
   ]
  },
  {
   "cell_type": "markdown",
   "id": "advanced-closer",
   "metadata": {},
   "source": [
    "# agency"
   ]
  },
  {
   "cell_type": "code",
   "execution_count": 10,
   "id": "pleased-construction",
   "metadata": {},
   "outputs": [],
   "source": [
    "agency = pa[pa.agency.notna()]"
   ]
  },
  {
   "cell_type": "code",
   "execution_count": 11,
   "id": "established-calendar",
   "metadata": {},
   "outputs": [
    {
     "data": {
      "text/plain": [
       "2093"
      ]
     },
     "execution_count": 11,
     "metadata": {},
     "output_type": "execute_result"
    }
   ],
   "source": [
    "len(agency)"
   ]
  },
  {
   "cell_type": "code",
   "execution_count": 12,
   "id": "blind-saver",
   "metadata": {},
   "outputs": [
    {
     "data": {
      "text/plain": [
       "418.6"
      ]
     },
     "execution_count": 12,
     "metadata": {},
     "output_type": "execute_result"
    }
   ],
   "source": [
    "len(agency) * 0.2"
   ]
  },
  {
   "cell_type": "code",
   "execution_count": 13,
   "id": "behavioral-separate",
   "metadata": {},
   "outputs": [
    {
     "data": {
      "text/plain": [
       "0.2001911132345915"
      ]
     },
     "execution_count": 13,
     "metadata": {},
     "output_type": "execute_result"
    }
   ],
   "source": [
    "419 / len(agency)"
   ]
  },
  {
   "cell_type": "code",
   "execution_count": 14,
   "id": "greenhouse-degree",
   "metadata": {},
   "outputs": [],
   "source": [
    "test_agency = agency.sample(419)"
   ]
  },
  {
   "cell_type": "code",
   "execution_count": 15,
   "id": "christian-hometown",
   "metadata": {},
   "outputs": [
    {
     "data": {
      "text/html": [
       "<div>\n",
       "<style scoped>\n",
       "    .dataframe tbody tr th:only-of-type {\n",
       "        vertical-align: middle;\n",
       "    }\n",
       "\n",
       "    .dataframe tbody tr th {\n",
       "        vertical-align: top;\n",
       "    }\n",
       "\n",
       "    .dataframe thead th {\n",
       "        text-align: right;\n",
       "    }\n",
       "</style>\n",
       "<table border=\"1\" class=\"dataframe\">\n",
       "  <thead>\n",
       "    <tr style=\"text-align: right;\">\n",
       "      <th></th>\n",
       "      <th>verb</th>\n",
       "      <th>agency</th>\n",
       "      <th>power</th>\n",
       "      <th>verb_prep</th>\n",
       "      <th>prep</th>\n",
       "      <th>lemma</th>\n",
       "      <th>sents</th>\n",
       "    </tr>\n",
       "  </thead>\n",
       "  <tbody>\n",
       "    <tr>\n",
       "      <th>1501</th>\n",
       "      <td>ripples</td>\n",
       "      <td>agency_pos</td>\n",
       "      <td>NaN</td>\n",
       "      <td>ripples</td>\n",
       "      <td>NaN</td>\n",
       "      <td>ripple</td>\n",
       "      <td>[(Token: 1 The, Token: 2 water, Token: 3 start...</td>\n",
       "    </tr>\n",
       "    <tr>\n",
       "      <th>1712</th>\n",
       "      <td>spars</td>\n",
       "      <td>agency_pos</td>\n",
       "      <td>power_equal</td>\n",
       "      <td>spars</td>\n",
       "      <td>NaN</td>\n",
       "      <td>spar</td>\n",
       "      <td>[(Token: 1 dolph, Token: 2 does, Token: 3 howe...</td>\n",
       "    </tr>\n",
       "    <tr>\n",
       "      <th>999</th>\n",
       "      <td>jiggles</td>\n",
       "      <td>agency_pos</td>\n",
       "      <td>power_agent</td>\n",
       "      <td>jiggles</td>\n",
       "      <td>NaN</td>\n",
       "      <td>jiggle</td>\n",
       "      <td>[(Token: 1 It, Token: 2 jiggles, Token: 3 abou...</td>\n",
       "    </tr>\n",
       "    <tr>\n",
       "      <th>28</th>\n",
       "      <td>admires</td>\n",
       "      <td>agency_equal</td>\n",
       "      <td>power_theme</td>\n",
       "      <td>admires</td>\n",
       "      <td>NaN</td>\n",
       "      <td>admire</td>\n",
       "      <td>[(Token: 1 edwards, Token: 2 was, Token: 3 adm...</td>\n",
       "    </tr>\n",
       "    <tr>\n",
       "      <th>382</th>\n",
       "      <td>contracts</td>\n",
       "      <td>agency_pos</td>\n",
       "      <td>power_theme</td>\n",
       "      <td>contracts</td>\n",
       "      <td>NaN</td>\n",
       "      <td>contract</td>\n",
       "      <td>[(Token: 1 Charles, Token: 2 was, Token: 3 the...</td>\n",
       "    </tr>\n",
       "  </tbody>\n",
       "</table>\n",
       "</div>"
      ],
      "text/plain": [
       "           verb        agency        power  verb_prep prep     lemma  \\\n",
       "1501    ripples    agency_pos          NaN    ripples  NaN    ripple   \n",
       "1712      spars    agency_pos  power_equal      spars  NaN      spar   \n",
       "999     jiggles    agency_pos  power_agent    jiggles  NaN    jiggle   \n",
       "28      admires  agency_equal  power_theme    admires  NaN    admire   \n",
       "382   contracts    agency_pos  power_theme  contracts  NaN  contract   \n",
       "\n",
       "                                                  sents  \n",
       "1501  [(Token: 1 The, Token: 2 water, Token: 3 start...  \n",
       "1712  [(Token: 1 dolph, Token: 2 does, Token: 3 howe...  \n",
       "999   [(Token: 1 It, Token: 2 jiggles, Token: 3 abou...  \n",
       "28    [(Token: 1 edwards, Token: 2 was, Token: 3 adm...  \n",
       "382   [(Token: 1 Charles, Token: 2 was, Token: 3 the...  "
      ]
     },
     "execution_count": 15,
     "metadata": {},
     "output_type": "execute_result"
    }
   ],
   "source": [
    "test_agency.head()"
   ]
  },
  {
   "cell_type": "code",
   "execution_count": 16,
   "id": "administrative-blackjack",
   "metadata": {},
   "outputs": [
    {
     "data": {
      "text/html": [
       "<div>\n",
       "<style scoped>\n",
       "    .dataframe tbody tr th:only-of-type {\n",
       "        vertical-align: middle;\n",
       "    }\n",
       "\n",
       "    .dataframe tbody tr th {\n",
       "        vertical-align: top;\n",
       "    }\n",
       "\n",
       "    .dataframe thead th {\n",
       "        text-align: right;\n",
       "    }\n",
       "</style>\n",
       "<table border=\"1\" class=\"dataframe\">\n",
       "  <thead>\n",
       "    <tr style=\"text-align: right;\">\n",
       "      <th></th>\n",
       "      <th>verb</th>\n",
       "      <th>agency</th>\n",
       "      <th>power</th>\n",
       "      <th>verb_prep</th>\n",
       "      <th>prep</th>\n",
       "      <th>lemma</th>\n",
       "      <th>sents</th>\n",
       "    </tr>\n",
       "  </thead>\n",
       "  <tbody>\n",
       "    <tr>\n",
       "      <th>count</th>\n",
       "      <td>419</td>\n",
       "      <td>419</td>\n",
       "      <td>327</td>\n",
       "      <td>419</td>\n",
       "      <td>11</td>\n",
       "      <td>419</td>\n",
       "      <td>419</td>\n",
       "    </tr>\n",
       "    <tr>\n",
       "      <th>unique</th>\n",
       "      <td>418</td>\n",
       "      <td>3</td>\n",
       "      <td>3</td>\n",
       "      <td>419</td>\n",
       "      <td>5</td>\n",
       "      <td>418</td>\n",
       "      <td>419</td>\n",
       "    </tr>\n",
       "    <tr>\n",
       "      <th>top</th>\n",
       "      <td>revolves</td>\n",
       "      <td>agency_pos</td>\n",
       "      <td>power_agent</td>\n",
       "      <td>houses</td>\n",
       "      <td>to</td>\n",
       "      <td>revolve</td>\n",
       "      <td>[(Token: 1 To, Token: 2 probe, Token: 3 the, T...</td>\n",
       "    </tr>\n",
       "    <tr>\n",
       "      <th>freq</th>\n",
       "      <td>2</td>\n",
       "      <td>326</td>\n",
       "      <td>218</td>\n",
       "      <td>1</td>\n",
       "      <td>4</td>\n",
       "      <td>2</td>\n",
       "      <td>1</td>\n",
       "    </tr>\n",
       "  </tbody>\n",
       "</table>\n",
       "</div>"
      ],
      "text/plain": [
       "            verb      agency        power verb_prep prep    lemma  \\\n",
       "count        419         419          327       419   11      419   \n",
       "unique       418           3            3       419    5      418   \n",
       "top     revolves  agency_pos  power_agent    houses   to  revolve   \n",
       "freq           2         326          218         1    4        2   \n",
       "\n",
       "                                                    sents  \n",
       "count                                                 419  \n",
       "unique                                                419  \n",
       "top     [(Token: 1 To, Token: 2 probe, Token: 3 the, T...  \n",
       "freq                                                    1  "
      ]
     },
     "execution_count": 16,
     "metadata": {},
     "output_type": "execute_result"
    }
   ],
   "source": [
    "test_agency.describe()"
   ]
  },
  {
   "cell_type": "code",
   "execution_count": 17,
   "id": "adverse-ancient",
   "metadata": {},
   "outputs": [],
   "source": [
    "test_agency_vp = set(test_agency.verb_prep)"
   ]
  },
  {
   "cell_type": "code",
   "execution_count": 18,
   "id": "honey-baltimore",
   "metadata": {},
   "outputs": [],
   "source": [
    "test_agency_idx = set(test_agency.index)"
   ]
  },
  {
   "cell_type": "code",
   "execution_count": 19,
   "id": "boring-prisoner",
   "metadata": {},
   "outputs": [
    {
     "data": {
      "text/plain": [
       "(419, 419)"
      ]
     },
     "execution_count": 19,
     "metadata": {},
     "output_type": "execute_result"
    }
   ],
   "source": [
    "len(test_agency_idx), len(test_agency_vp)"
   ]
  },
  {
   "cell_type": "code",
   "execution_count": 20,
   "id": "plastic-florida",
   "metadata": {},
   "outputs": [],
   "source": [
    "train_agency_vp = set(agency[~agency.verb_prep.isin(test_agency_vp)].verb_prep)"
   ]
  },
  {
   "cell_type": "code",
   "execution_count": 21,
   "id": "greek-optimization",
   "metadata": {},
   "outputs": [],
   "source": [
    "train_agency_idx = set(agency[~agency.verb_prep.isin(test_agency_vp)].index)"
   ]
  },
  {
   "cell_type": "code",
   "execution_count": 22,
   "id": "eastern-holiday",
   "metadata": {},
   "outputs": [
    {
     "data": {
      "text/plain": [
       "(1674, 1674)"
      ]
     },
     "execution_count": 22,
     "metadata": {},
     "output_type": "execute_result"
    }
   ],
   "source": [
    "len(train_agency_vp), len(train_agency_idx)"
   ]
  },
  {
   "cell_type": "markdown",
   "id": "missing-paradise",
   "metadata": {},
   "source": [
    "## save"
   ]
  },
  {
   "cell_type": "code",
   "execution_count": 23,
   "id": "certified-ensemble",
   "metadata": {},
   "outputs": [],
   "source": [
    "with open(PA_PATH + 'train_agency_vp.pickle', 'wb') as f:\n",
    "    pickle.dump(train_agency_vp, f)"
   ]
  },
  {
   "cell_type": "code",
   "execution_count": 24,
   "id": "compatible-lounge",
   "metadata": {},
   "outputs": [],
   "source": [
    "with open(PA_PATH + 'train_agency_idx.pickle', 'wb') as f:\n",
    "    pickle.dump(train_agency_idx, f)"
   ]
  },
  {
   "cell_type": "code",
   "execution_count": 25,
   "id": "fifty-treasury",
   "metadata": {},
   "outputs": [],
   "source": [
    "with open(PA_PATH + 'test_agency_vp.pickle', 'wb') as f:\n",
    "    pickle.dump(test_agency_vp, f)"
   ]
  },
  {
   "cell_type": "code",
   "execution_count": 26,
   "id": "nuclear-promotion",
   "metadata": {},
   "outputs": [],
   "source": [
    "with open(PA_PATH + 'test_agency_idx.pickle', 'wb') as f:\n",
    "    pickle.dump(test_agency_idx, f)"
   ]
  },
  {
   "cell_type": "markdown",
   "id": "alert-repository",
   "metadata": {},
   "source": [
    "# power"
   ]
  },
  {
   "cell_type": "code",
   "execution_count": 27,
   "id": "hawaiian-bennett",
   "metadata": {},
   "outputs": [],
   "source": [
    "power = pa[pa.power.notna()]"
   ]
  },
  {
   "cell_type": "code",
   "execution_count": 28,
   "id": "noble-locator",
   "metadata": {},
   "outputs": [
    {
     "data": {
      "text/plain": [
       "1698"
      ]
     },
     "execution_count": 28,
     "metadata": {},
     "output_type": "execute_result"
    }
   ],
   "source": [
    "len(power)"
   ]
  },
  {
   "cell_type": "code",
   "execution_count": 29,
   "id": "frequent-basketball",
   "metadata": {},
   "outputs": [
    {
     "data": {
      "text/plain": [
       "339.6"
      ]
     },
     "execution_count": 29,
     "metadata": {},
     "output_type": "execute_result"
    }
   ],
   "source": [
    "len(power) * 0.2"
   ]
  },
  {
   "cell_type": "code",
   "execution_count": 30,
   "id": "sweet-recipient",
   "metadata": {},
   "outputs": [
    {
     "data": {
      "text/plain": [
       "0.20023557126030625"
      ]
     },
     "execution_count": 30,
     "metadata": {},
     "output_type": "execute_result"
    }
   ],
   "source": [
    "340 / len(power)"
   ]
  },
  {
   "cell_type": "code",
   "execution_count": 31,
   "id": "noted-progressive",
   "metadata": {},
   "outputs": [],
   "source": [
    "test_power = power.sample(340)"
   ]
  },
  {
   "cell_type": "code",
   "execution_count": 32,
   "id": "suffering-investigation",
   "metadata": {},
   "outputs": [
    {
     "data": {
      "text/html": [
       "<div>\n",
       "<style scoped>\n",
       "    .dataframe tbody tr th:only-of-type {\n",
       "        vertical-align: middle;\n",
       "    }\n",
       "\n",
       "    .dataframe tbody tr th {\n",
       "        vertical-align: top;\n",
       "    }\n",
       "\n",
       "    .dataframe thead th {\n",
       "        text-align: right;\n",
       "    }\n",
       "</style>\n",
       "<table border=\"1\" class=\"dataframe\">\n",
       "  <thead>\n",
       "    <tr style=\"text-align: right;\">\n",
       "      <th></th>\n",
       "      <th>verb</th>\n",
       "      <th>agency</th>\n",
       "      <th>power</th>\n",
       "      <th>verb_prep</th>\n",
       "      <th>prep</th>\n",
       "      <th>lemma</th>\n",
       "      <th>sents</th>\n",
       "    </tr>\n",
       "  </thead>\n",
       "  <tbody>\n",
       "    <tr>\n",
       "      <th>565</th>\n",
       "      <td>distributes</td>\n",
       "      <td>agency_pos</td>\n",
       "      <td>power_agent</td>\n",
       "      <td>distributes</td>\n",
       "      <td>NaN</td>\n",
       "      <td>distribute</td>\n",
       "      <td>[(Token: 1 vohra, Token: 2 was, Token: 3 appoi...</td>\n",
       "    </tr>\n",
       "    <tr>\n",
       "      <th>1037</th>\n",
       "      <td>leafs</td>\n",
       "      <td>agency_pos</td>\n",
       "      <td>power_agent</td>\n",
       "      <td>leafs</td>\n",
       "      <td>NaN</td>\n",
       "      <td>leaf</td>\n",
       "      <td>[(Token: 1 I, Token: 2 started, Token: 3 to, T...</td>\n",
       "    </tr>\n",
       "    <tr>\n",
       "      <th>449</th>\n",
       "      <td>dabs</td>\n",
       "      <td>agency_pos</td>\n",
       "      <td>power_equal</td>\n",
       "      <td>dabs</td>\n",
       "      <td>NaN</td>\n",
       "      <td>dab</td>\n",
       "      <td>[(Token: 1 Only, Token: 2 the, Token: 3 dabbin...</td>\n",
       "    </tr>\n",
       "    <tr>\n",
       "      <th>270</th>\n",
       "      <td>chars</td>\n",
       "      <td>agency_pos</td>\n",
       "      <td>power_agent</td>\n",
       "      <td>chars</td>\n",
       "      <td>NaN</td>\n",
       "      <td>char</td>\n",
       "      <td>[(Token: 1 It, Token: 2 is, Token: 3 a, Token:...</td>\n",
       "    </tr>\n",
       "    <tr>\n",
       "      <th>1409</th>\n",
       "      <td>recognizes</td>\n",
       "      <td>agency_neg</td>\n",
       "      <td>power_theme</td>\n",
       "      <td>recognizes</td>\n",
       "      <td>NaN</td>\n",
       "      <td>recognize</td>\n",
       "      <td>[(Token: 1 islamic, Token: 2 state, Token: 3 o...</td>\n",
       "    </tr>\n",
       "  </tbody>\n",
       "</table>\n",
       "</div>"
      ],
      "text/plain": [
       "             verb      agency        power    verb_prep prep       lemma  \\\n",
       "565   distributes  agency_pos  power_agent  distributes  NaN  distribute   \n",
       "1037        leafs  agency_pos  power_agent        leafs  NaN        leaf   \n",
       "449          dabs  agency_pos  power_equal         dabs  NaN         dab   \n",
       "270         chars  agency_pos  power_agent        chars  NaN        char   \n",
       "1409   recognizes  agency_neg  power_theme   recognizes  NaN   recognize   \n",
       "\n",
       "                                                  sents  \n",
       "565   [(Token: 1 vohra, Token: 2 was, Token: 3 appoi...  \n",
       "1037  [(Token: 1 I, Token: 2 started, Token: 3 to, T...  \n",
       "449   [(Token: 1 Only, Token: 2 the, Token: 3 dabbin...  \n",
       "270   [(Token: 1 It, Token: 2 is, Token: 3 a, Token:...  \n",
       "1409  [(Token: 1 islamic, Token: 2 state, Token: 3 o...  "
      ]
     },
     "execution_count": 32,
     "metadata": {},
     "output_type": "execute_result"
    }
   ],
   "source": [
    "test_power.head()"
   ]
  },
  {
   "cell_type": "code",
   "execution_count": 33,
   "id": "north-shopping",
   "metadata": {},
   "outputs": [
    {
     "data": {
      "text/html": [
       "<div>\n",
       "<style scoped>\n",
       "    .dataframe tbody tr th:only-of-type {\n",
       "        vertical-align: middle;\n",
       "    }\n",
       "\n",
       "    .dataframe tbody tr th {\n",
       "        vertical-align: top;\n",
       "    }\n",
       "\n",
       "    .dataframe thead th {\n",
       "        text-align: right;\n",
       "    }\n",
       "</style>\n",
       "<table border=\"1\" class=\"dataframe\">\n",
       "  <thead>\n",
       "    <tr style=\"text-align: right;\">\n",
       "      <th></th>\n",
       "      <th>verb</th>\n",
       "      <th>agency</th>\n",
       "      <th>power</th>\n",
       "      <th>verb_prep</th>\n",
       "      <th>prep</th>\n",
       "      <th>lemma</th>\n",
       "      <th>sents</th>\n",
       "    </tr>\n",
       "  </thead>\n",
       "  <tbody>\n",
       "    <tr>\n",
       "      <th>count</th>\n",
       "      <td>340</td>\n",
       "      <td>340</td>\n",
       "      <td>340</td>\n",
       "      <td>340</td>\n",
       "      <td>6</td>\n",
       "      <td>340</td>\n",
       "      <td>340</td>\n",
       "    </tr>\n",
       "    <tr>\n",
       "      <th>unique</th>\n",
       "      <td>339</td>\n",
       "      <td>3</td>\n",
       "      <td>3</td>\n",
       "      <td>340</td>\n",
       "      <td>4</td>\n",
       "      <td>339</td>\n",
       "      <td>340</td>\n",
       "    </tr>\n",
       "    <tr>\n",
       "      <th>top</th>\n",
       "      <td>trips</td>\n",
       "      <td>agency_pos</td>\n",
       "      <td>power_agent</td>\n",
       "      <td>complicates</td>\n",
       "      <td>to</td>\n",
       "      <td>trip</td>\n",
       "      <td>[(Token: 1 So, Token: 2 then, Token: 3 he, Tok...</td>\n",
       "    </tr>\n",
       "    <tr>\n",
       "      <th>freq</th>\n",
       "      <td>2</td>\n",
       "      <td>283</td>\n",
       "      <td>237</td>\n",
       "      <td>1</td>\n",
       "      <td>2</td>\n",
       "      <td>2</td>\n",
       "      <td>1</td>\n",
       "    </tr>\n",
       "  </tbody>\n",
       "</table>\n",
       "</div>"
      ],
      "text/plain": [
       "         verb      agency        power    verb_prep prep lemma  \\\n",
       "count     340         340          340          340    6   340   \n",
       "unique    339           3            3          340    4   339   \n",
       "top     trips  agency_pos  power_agent  complicates   to  trip   \n",
       "freq        2         283          237            1    2     2   \n",
       "\n",
       "                                                    sents  \n",
       "count                                                 340  \n",
       "unique                                                340  \n",
       "top     [(Token: 1 So, Token: 2 then, Token: 3 he, Tok...  \n",
       "freq                                                    1  "
      ]
     },
     "execution_count": 33,
     "metadata": {},
     "output_type": "execute_result"
    }
   ],
   "source": [
    "test_power.describe()"
   ]
  },
  {
   "cell_type": "code",
   "execution_count": 34,
   "id": "specialized-constraint",
   "metadata": {},
   "outputs": [],
   "source": [
    "test_power_vp = set(test_power.verb_prep)"
   ]
  },
  {
   "cell_type": "code",
   "execution_count": 35,
   "id": "arabic-limitation",
   "metadata": {},
   "outputs": [],
   "source": [
    "test_power_idx = set(test_power.index)"
   ]
  },
  {
   "cell_type": "code",
   "execution_count": 36,
   "id": "neural-reading",
   "metadata": {},
   "outputs": [
    {
     "data": {
      "text/plain": [
       "(340, 340)"
      ]
     },
     "execution_count": 36,
     "metadata": {},
     "output_type": "execute_result"
    }
   ],
   "source": [
    "len(test_power_idx), len(test_power_vp)"
   ]
  },
  {
   "cell_type": "code",
   "execution_count": 37,
   "id": "emerging-sharp",
   "metadata": {},
   "outputs": [],
   "source": [
    "train_power_vp = set(power[~power.verb_prep.isin(test_power_vp)].verb_prep)"
   ]
  },
  {
   "cell_type": "code",
   "execution_count": 38,
   "id": "egyptian-tracker",
   "metadata": {},
   "outputs": [],
   "source": [
    "train_power_idx = set(power[~power.verb_prep.isin(test_power_vp)].index)"
   ]
  },
  {
   "cell_type": "code",
   "execution_count": 39,
   "id": "indie-charge",
   "metadata": {},
   "outputs": [
    {
     "data": {
      "text/plain": [
       "(1358, 1358)"
      ]
     },
     "execution_count": 39,
     "metadata": {},
     "output_type": "execute_result"
    }
   ],
   "source": [
    "len(train_power_vp), len(train_power_idx)"
   ]
  },
  {
   "cell_type": "markdown",
   "id": "discrete-conclusion",
   "metadata": {},
   "source": [
    "## save"
   ]
  },
  {
   "cell_type": "code",
   "execution_count": 40,
   "id": "iraqi-hardwood",
   "metadata": {},
   "outputs": [],
   "source": [
    "with open(PA_PATH + 'train_power_vp.pickle', 'wb') as f:\n",
    "    pickle.dump(train_power_vp, f)"
   ]
  },
  {
   "cell_type": "code",
   "execution_count": 41,
   "id": "turkish-faith",
   "metadata": {},
   "outputs": [],
   "source": [
    "with open(PA_PATH + 'train_power_idx.pickle', 'wb') as f:\n",
    "    pickle.dump(train_power_idx, f)"
   ]
  },
  {
   "cell_type": "code",
   "execution_count": 42,
   "id": "endangered-biology",
   "metadata": {},
   "outputs": [],
   "source": [
    "with open(PA_PATH + 'test_power_vp.pickle', 'wb') as f:\n",
    "    pickle.dump(test_power_vp, f)"
   ]
  },
  {
   "cell_type": "code",
   "execution_count": 43,
   "id": "following-ivory",
   "metadata": {},
   "outputs": [],
   "source": [
    "with open(PA_PATH + 'test_power_idx.pickle', 'wb') as f:\n",
    "    pickle.dump(test_power_idx, f)"
   ]
  },
  {
   "cell_type": "code",
   "execution_count": null,
   "id": "banned-dispatch",
   "metadata": {},
   "outputs": [],
   "source": []
  }
 ],
 "metadata": {
  "kernelspec": {
   "display_name": "Python 3 (ipykernel)",
   "language": "python",
   "name": "python3"
  },
  "language_info": {
   "codemirror_mode": {
    "name": "ipython",
    "version": 3
   },
   "file_extension": ".py",
   "mimetype": "text/x-python",
   "name": "python",
   "nbconvert_exporter": "python",
   "pygments_lexer": "ipython3",
   "version": "3.9.7"
  }
 },
 "nbformat": 4,
 "nbformat_minor": 5
}
